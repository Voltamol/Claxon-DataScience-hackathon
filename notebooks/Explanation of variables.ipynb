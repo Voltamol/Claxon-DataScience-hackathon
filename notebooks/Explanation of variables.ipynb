{
 "cells": [
  {
   "cell_type": "markdown",
   "metadata": {},
   "source": [
    "## Remaining Term"
   ]
  },
  {
   "cell_type": "markdown",
   "metadata": {},
   "source": [
    "The 'remaining term' variable in a loan default dataset likely refers to the number of payment periods or months remaining on the loan at a given point in time. This is an important factor in loan default analysis, as the remaining term can impact the likelihood of a borrower defaulting.\n",
    "\n",
    "Some key things to know about the 'remaining term' variable:\n",
    "\n",
    "- It represents the `number of scheduled payments left on the loan`. For example, if a loan has a 5-year term, and 2 years have already elapsed, the remaining term would be 3 years or 36 payment periods.\n",
    "\n",
    "- As the remaining term decreases over time, the risk of default may change. `Borrowers with shorter remaining terms may be more likely to default`, as they have fewer payments left to make up for any missed or late payments.\n",
    "\n",
    "> The remaining term can interact with other loan characteristics, such as interest rate, payment amount, and loan purpose, to influence default risk. Analyzing these relationships can provide insights into loan performance.\n",
    "\n",
    "> Changes in the remaining term over the lifetime of the loan can also be an important factor. For example, a borrower who is current on payments but has the remaining term extended may have a different default risk profile than one whose remaining term is shortening.\n",
    "\n",
    "_In summary, the 'remaining term' variable gives you visibility into how far along a borrower is in paying off their loan, which is a key factor in assessing default risk. Examining this variable alongside other loan details can help you build a more comprehensive understanding of the dataset._"
   ]
  },
  {
   "cell_type": "markdown",
   "metadata": {},
   "source": [
    "---"
   ]
  },
  {
   "cell_type": "code",
   "execution_count": null,
   "metadata": {},
   "outputs": [],
   "source": []
  }
 ],
 "metadata": {
  "kernelspec": {
   "display_name": "Python 3",
   "language": "python",
   "name": "python3"
  },
  "language_info": {
   "codemirror_mode": {
    "name": "ipython",
    "version": 3
   },
   "file_extension": ".py",
   "mimetype": "text/x-python",
   "name": "python",
   "nbconvert_exporter": "python",
   "pygments_lexer": "ipython3",
   "version": "3.7.4"
  }
 },
 "nbformat": 4,
 "nbformat_minor": 4
}
