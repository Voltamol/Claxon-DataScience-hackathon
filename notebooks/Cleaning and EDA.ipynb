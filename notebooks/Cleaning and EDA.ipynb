{
 "cells": [
  {
   "cell_type": "code",
   "execution_count": 1,
   "metadata": {},
   "outputs": [],
   "source": [
    "import pandas as pd\n",
    "import warnings\n",
    "warnings.filterwarnings(\"ignore\")"
   ]
  },
  {
   "cell_type": "code",
   "execution_count": 2,
   "metadata": {},
   "outputs": [],
   "source": [
    "import os"
   ]
  },
  {
   "cell_type": "code",
   "execution_count": 3,
   "metadata": {},
   "outputs": [],
   "source": [
    "import seaborn as sns\n",
    "sns.set_style(style=\"darkgrid\")"
   ]
  },
  {
   "cell_type": "code",
   "execution_count": 4,
   "metadata": {},
   "outputs": [],
   "source": [
    "current=os.getcwd()"
   ]
  },
  {
   "cell_type": "code",
   "execution_count": 5,
   "metadata": {},
   "outputs": [],
   "source": [
    "root=os.path.dirname(current)"
   ]
  },
  {
   "cell_type": "code",
   "execution_count": 6,
   "metadata": {},
   "outputs": [
    {
     "name": "stdout",
     "output_type": "stream",
     "text": [
      "C:\\Users\\t470p\\Documents\\GitHub\\channels\\New folder\\Claxon-DataScience-hackathon\n"
     ]
    }
   ],
   "source": [
    "print(root)"
   ]
  },
  {
   "cell_type": "code",
   "execution_count": 7,
   "metadata": {},
   "outputs": [
    {
     "data": {
      "text/plain": [
       "['.git', '.gitattributes', 'data', 'LICENSE', 'notebooks', 'source documents']"
      ]
     },
     "execution_count": 7,
     "metadata": {},
     "output_type": "execute_result"
    }
   ],
   "source": [
    "os.listdir(root)"
   ]
  },
  {
   "cell_type": "code",
   "execution_count": 8,
   "metadata": {},
   "outputs": [],
   "source": [
    "path=os.path.join(root,'data','data_science_competition_2024.csv')"
   ]
  },
  {
   "cell_type": "code",
   "execution_count": 9,
   "metadata": {},
   "outputs": [],
   "source": [
    "df=pd.read_csv(path)"
   ]
  },
  {
   "cell_type": "code",
   "execution_count": 10,
   "metadata": {},
   "outputs": [
    {
     "data": {
      "text/html": [
       "<div>\n",
       "<style scoped>\n",
       "    .dataframe tbody tr th:only-of-type {\n",
       "        vertical-align: middle;\n",
       "    }\n",
       "\n",
       "    .dataframe tbody tr th {\n",
       "        vertical-align: top;\n",
       "    }\n",
       "\n",
       "    .dataframe thead th {\n",
       "        text-align: right;\n",
       "    }\n",
       "</style>\n",
       "<table border=\"1\" class=\"dataframe\">\n",
       "  <thead>\n",
       "    <tr style=\"text-align: right;\">\n",
       "      <th></th>\n",
       "      <th>Unnamed: 0</th>\n",
       "      <th>loan_id</th>\n",
       "      <th>gender</th>\n",
       "      <th>disbursemet_date</th>\n",
       "      <th>currency</th>\n",
       "      <th>country</th>\n",
       "      <th>sex</th>\n",
       "      <th>is_employed</th>\n",
       "      <th>job</th>\n",
       "      <th>location</th>\n",
       "      <th>...</th>\n",
       "      <th>number_of_defaults</th>\n",
       "      <th>outstanding_balance</th>\n",
       "      <th>interest_rate</th>\n",
       "      <th>age</th>\n",
       "      <th>number_of_defaults.1</th>\n",
       "      <th>remaining term</th>\n",
       "      <th>salary</th>\n",
       "      <th>marital_status</th>\n",
       "      <th>age.1</th>\n",
       "      <th>Loan Status</th>\n",
       "    </tr>\n",
       "  </thead>\n",
       "  <tbody>\n",
       "    <tr>\n",
       "      <td>0</td>\n",
       "      <td>0</td>\n",
       "      <td>8d05de78-ff32-46b1-aeb5-b3190f9c158a</td>\n",
       "      <td>female</td>\n",
       "      <td>2022 10 29</td>\n",
       "      <td>USD</td>\n",
       "      <td>Zimbabwe</td>\n",
       "      <td>female</td>\n",
       "      <td>True</td>\n",
       "      <td>Teacher</td>\n",
       "      <td>Beitbridge</td>\n",
       "      <td>...</td>\n",
       "      <td>0</td>\n",
       "      <td>48653.011473</td>\n",
       "      <td>0.22</td>\n",
       "      <td>37</td>\n",
       "      <td>0</td>\n",
       "      <td>47</td>\n",
       "      <td>3230.038869</td>\n",
       "      <td>married</td>\n",
       "      <td>37</td>\n",
       "      <td>Did not default</td>\n",
       "    </tr>\n",
       "    <tr>\n",
       "      <td>1</td>\n",
       "      <td>1</td>\n",
       "      <td>368bf756-fcf2-4822-9612-f445d90b485b</td>\n",
       "      <td>other</td>\n",
       "      <td>2020 06 06</td>\n",
       "      <td>USD</td>\n",
       "      <td>Zimbabwe</td>\n",
       "      <td>other</td>\n",
       "      <td>True</td>\n",
       "      <td>Teacher</td>\n",
       "      <td>Harare</td>\n",
       "      <td>...</td>\n",
       "      <td>2</td>\n",
       "      <td>28752.062237</td>\n",
       "      <td>0.20</td>\n",
       "      <td>43</td>\n",
       "      <td>2</td>\n",
       "      <td>62</td>\n",
       "      <td>3194.139103</td>\n",
       "      <td>single</td>\n",
       "      <td>43</td>\n",
       "      <td>Did not default</td>\n",
       "    </tr>\n",
       "    <tr>\n",
       "      <td>2</td>\n",
       "      <td>2</td>\n",
       "      <td>6e3be39e-49b5-45b5-aab6-c6556de53c6f</td>\n",
       "      <td>other</td>\n",
       "      <td>2023 09 29</td>\n",
       "      <td>USD</td>\n",
       "      <td>Zimbabwe</td>\n",
       "      <td>other</td>\n",
       "      <td>True</td>\n",
       "      <td>Nurse</td>\n",
       "      <td>Gweru</td>\n",
       "      <td>...</td>\n",
       "      <td>1</td>\n",
       "      <td>44797.554126</td>\n",
       "      <td>0.22</td>\n",
       "      <td>43</td>\n",
       "      <td>1</td>\n",
       "      <td>57</td>\n",
       "      <td>3330.826656</td>\n",
       "      <td>married</td>\n",
       "      <td>43</td>\n",
       "      <td>Did not default</td>\n",
       "    </tr>\n",
       "    <tr>\n",
       "      <td>3</td>\n",
       "      <td>3</td>\n",
       "      <td>191c62f8-2211-49fe-ba91-43556b307871</td>\n",
       "      <td>female</td>\n",
       "      <td>2022 06 22</td>\n",
       "      <td>USD</td>\n",
       "      <td>Zimbabwe</td>\n",
       "      <td>female</td>\n",
       "      <td>True</td>\n",
       "      <td>Doctor</td>\n",
       "      <td>Rusape</td>\n",
       "      <td>...</td>\n",
       "      <td>0</td>\n",
       "      <td>35681.496413</td>\n",
       "      <td>0.23</td>\n",
       "      <td>47</td>\n",
       "      <td>0</td>\n",
       "      <td>42</td>\n",
       "      <td>2246.797020</td>\n",
       "      <td>divorced</td>\n",
       "      <td>47</td>\n",
       "      <td>Did not default</td>\n",
       "    </tr>\n",
       "    <tr>\n",
       "      <td>4</td>\n",
       "      <td>4</td>\n",
       "      <td>477cd8a1-3b01-4623-9318-8cd6122a8346</td>\n",
       "      <td>male</td>\n",
       "      <td>2023 02 08</td>\n",
       "      <td>USD</td>\n",
       "      <td>Zimbabwe</td>\n",
       "      <td>male</td>\n",
       "      <td>True</td>\n",
       "      <td>Nurse</td>\n",
       "      <td>Chipinge</td>\n",
       "      <td>...</td>\n",
       "      <td>0</td>\n",
       "      <td>34156.055882</td>\n",
       "      <td>0.20</td>\n",
       "      <td>42</td>\n",
       "      <td>0</td>\n",
       "      <td>45</td>\n",
       "      <td>2310.858441</td>\n",
       "      <td>married</td>\n",
       "      <td>42</td>\n",
       "      <td>Did not default</td>\n",
       "    </tr>\n",
       "  </tbody>\n",
       "</table>\n",
       "<p>5 rows × 21 columns</p>\n",
       "</div>"
      ],
      "text/plain": [
       "   Unnamed: 0                               loan_id  gender disbursemet_date  \\\n",
       "0           0  8d05de78-ff32-46b1-aeb5-b3190f9c158a  female       2022 10 29   \n",
       "1           1  368bf756-fcf2-4822-9612-f445d90b485b   other       2020 06 06   \n",
       "2           2  6e3be39e-49b5-45b5-aab6-c6556de53c6f   other       2023 09 29   \n",
       "3           3  191c62f8-2211-49fe-ba91-43556b307871  female       2022 06 22   \n",
       "4           4  477cd8a1-3b01-4623-9318-8cd6122a8346    male       2023 02 08   \n",
       "\n",
       "  currency   country     sex  is_employed      job    location  ...  \\\n",
       "0      USD  Zimbabwe  female         True  Teacher  Beitbridge  ...   \n",
       "1      USD  Zimbabwe   other         True  Teacher      Harare  ...   \n",
       "2      USD  Zimbabwe   other         True    Nurse       Gweru  ...   \n",
       "3      USD  Zimbabwe  female         True   Doctor      Rusape  ...   \n",
       "4      USD  Zimbabwe    male         True    Nurse    Chipinge  ...   \n",
       "\n",
       "   number_of_defaults  outstanding_balance  interest_rate  age  \\\n",
       "0                   0         48653.011473           0.22   37   \n",
       "1                   2         28752.062237           0.20   43   \n",
       "2                   1         44797.554126           0.22   43   \n",
       "3                   0         35681.496413           0.23   47   \n",
       "4                   0         34156.055882           0.20   42   \n",
       "\n",
       "   number_of_defaults.1  remaining term       salary  marital_status age.1  \\\n",
       "0                     0              47  3230.038869         married    37   \n",
       "1                     2              62  3194.139103          single    43   \n",
       "2                     1              57  3330.826656         married    43   \n",
       "3                     0              42  2246.797020        divorced    47   \n",
       "4                     0              45  2310.858441         married    42   \n",
       "\n",
       "       Loan Status  \n",
       "0  Did not default  \n",
       "1  Did not default  \n",
       "2  Did not default  \n",
       "3  Did not default  \n",
       "4  Did not default  \n",
       "\n",
       "[5 rows x 21 columns]"
      ]
     },
     "execution_count": 10,
     "metadata": {},
     "output_type": "execute_result"
    }
   ],
   "source": [
    "df.head()"
   ]
  },
  {
   "cell_type": "code",
   "execution_count": 11,
   "metadata": {},
   "outputs": [],
   "source": [
    "df=pd.read_csv(path,index_col=0)"
   ]
  },
  {
   "cell_type": "code",
   "execution_count": 12,
   "metadata": {},
   "outputs": [
    {
     "data": {
      "text/html": [
       "<div>\n",
       "<style scoped>\n",
       "    .dataframe tbody tr th:only-of-type {\n",
       "        vertical-align: middle;\n",
       "    }\n",
       "\n",
       "    .dataframe tbody tr th {\n",
       "        vertical-align: top;\n",
       "    }\n",
       "\n",
       "    .dataframe thead th {\n",
       "        text-align: right;\n",
       "    }\n",
       "</style>\n",
       "<table border=\"1\" class=\"dataframe\">\n",
       "  <thead>\n",
       "    <tr style=\"text-align: right;\">\n",
       "      <th></th>\n",
       "      <th>loan_id</th>\n",
       "      <th>gender</th>\n",
       "      <th>disbursemet_date</th>\n",
       "      <th>currency</th>\n",
       "      <th>country</th>\n",
       "      <th>sex</th>\n",
       "      <th>is_employed</th>\n",
       "      <th>job</th>\n",
       "      <th>location</th>\n",
       "      <th>loan_amount</th>\n",
       "      <th>number_of_defaults</th>\n",
       "      <th>outstanding_balance</th>\n",
       "      <th>interest_rate</th>\n",
       "      <th>age</th>\n",
       "      <th>number_of_defaults.1</th>\n",
       "      <th>remaining term</th>\n",
       "      <th>salary</th>\n",
       "      <th>marital_status</th>\n",
       "      <th>age.1</th>\n",
       "      <th>Loan Status</th>\n",
       "    </tr>\n",
       "  </thead>\n",
       "  <tbody>\n",
       "    <tr>\n",
       "      <td>0</td>\n",
       "      <td>8d05de78-ff32-46b1-aeb5-b3190f9c158a</td>\n",
       "      <td>female</td>\n",
       "      <td>2022 10 29</td>\n",
       "      <td>USD</td>\n",
       "      <td>Zimbabwe</td>\n",
       "      <td>female</td>\n",
       "      <td>True</td>\n",
       "      <td>Teacher</td>\n",
       "      <td>Beitbridge</td>\n",
       "      <td>39000.0</td>\n",
       "      <td>0</td>\n",
       "      <td>48653.011473</td>\n",
       "      <td>0.22</td>\n",
       "      <td>37</td>\n",
       "      <td>0</td>\n",
       "      <td>47</td>\n",
       "      <td>3230.038869</td>\n",
       "      <td>married</td>\n",
       "      <td>37</td>\n",
       "      <td>Did not default</td>\n",
       "    </tr>\n",
       "    <tr>\n",
       "      <td>1</td>\n",
       "      <td>368bf756-fcf2-4822-9612-f445d90b485b</td>\n",
       "      <td>other</td>\n",
       "      <td>2020 06 06</td>\n",
       "      <td>USD</td>\n",
       "      <td>Zimbabwe</td>\n",
       "      <td>other</td>\n",
       "      <td>True</td>\n",
       "      <td>Teacher</td>\n",
       "      <td>Harare</td>\n",
       "      <td>27000.0</td>\n",
       "      <td>2</td>\n",
       "      <td>28752.062237</td>\n",
       "      <td>0.20</td>\n",
       "      <td>43</td>\n",
       "      <td>2</td>\n",
       "      <td>62</td>\n",
       "      <td>3194.139103</td>\n",
       "      <td>single</td>\n",
       "      <td>43</td>\n",
       "      <td>Did not default</td>\n",
       "    </tr>\n",
       "    <tr>\n",
       "      <td>2</td>\n",
       "      <td>6e3be39e-49b5-45b5-aab6-c6556de53c6f</td>\n",
       "      <td>other</td>\n",
       "      <td>2023 09 29</td>\n",
       "      <td>USD</td>\n",
       "      <td>Zimbabwe</td>\n",
       "      <td>other</td>\n",
       "      <td>True</td>\n",
       "      <td>Nurse</td>\n",
       "      <td>Gweru</td>\n",
       "      <td>35000.0</td>\n",
       "      <td>1</td>\n",
       "      <td>44797.554126</td>\n",
       "      <td>0.22</td>\n",
       "      <td>43</td>\n",
       "      <td>1</td>\n",
       "      <td>57</td>\n",
       "      <td>3330.826656</td>\n",
       "      <td>married</td>\n",
       "      <td>43</td>\n",
       "      <td>Did not default</td>\n",
       "    </tr>\n",
       "    <tr>\n",
       "      <td>3</td>\n",
       "      <td>191c62f8-2211-49fe-ba91-43556b307871</td>\n",
       "      <td>female</td>\n",
       "      <td>2022 06 22</td>\n",
       "      <td>USD</td>\n",
       "      <td>Zimbabwe</td>\n",
       "      <td>female</td>\n",
       "      <td>True</td>\n",
       "      <td>Doctor</td>\n",
       "      <td>Rusape</td>\n",
       "      <td>24000.0</td>\n",
       "      <td>0</td>\n",
       "      <td>35681.496413</td>\n",
       "      <td>0.23</td>\n",
       "      <td>47</td>\n",
       "      <td>0</td>\n",
       "      <td>42</td>\n",
       "      <td>2246.797020</td>\n",
       "      <td>divorced</td>\n",
       "      <td>47</td>\n",
       "      <td>Did not default</td>\n",
       "    </tr>\n",
       "    <tr>\n",
       "      <td>4</td>\n",
       "      <td>477cd8a1-3b01-4623-9318-8cd6122a8346</td>\n",
       "      <td>male</td>\n",
       "      <td>2023 02 08</td>\n",
       "      <td>USD</td>\n",
       "      <td>Zimbabwe</td>\n",
       "      <td>male</td>\n",
       "      <td>True</td>\n",
       "      <td>Nurse</td>\n",
       "      <td>Chipinge</td>\n",
       "      <td>19000.0</td>\n",
       "      <td>0</td>\n",
       "      <td>34156.055882</td>\n",
       "      <td>0.20</td>\n",
       "      <td>42</td>\n",
       "      <td>0</td>\n",
       "      <td>45</td>\n",
       "      <td>2310.858441</td>\n",
       "      <td>married</td>\n",
       "      <td>42</td>\n",
       "      <td>Did not default</td>\n",
       "    </tr>\n",
       "  </tbody>\n",
       "</table>\n",
       "</div>"
      ],
      "text/plain": [
       "                                loan_id  gender disbursemet_date currency  \\\n",
       "0  8d05de78-ff32-46b1-aeb5-b3190f9c158a  female       2022 10 29      USD   \n",
       "1  368bf756-fcf2-4822-9612-f445d90b485b   other       2020 06 06      USD   \n",
       "2  6e3be39e-49b5-45b5-aab6-c6556de53c6f   other       2023 09 29      USD   \n",
       "3  191c62f8-2211-49fe-ba91-43556b307871  female       2022 06 22      USD   \n",
       "4  477cd8a1-3b01-4623-9318-8cd6122a8346    male       2023 02 08      USD   \n",
       "\n",
       "    country     sex  is_employed      job    location  loan_amount  \\\n",
       "0  Zimbabwe  female         True  Teacher  Beitbridge      39000.0   \n",
       "1  Zimbabwe   other         True  Teacher      Harare      27000.0   \n",
       "2  Zimbabwe   other         True    Nurse       Gweru      35000.0   \n",
       "3  Zimbabwe  female         True   Doctor      Rusape      24000.0   \n",
       "4  Zimbabwe    male         True    Nurse    Chipinge      19000.0   \n",
       "\n",
       "   number_of_defaults  outstanding_balance  interest_rate  age  \\\n",
       "0                   0         48653.011473           0.22   37   \n",
       "1                   2         28752.062237           0.20   43   \n",
       "2                   1         44797.554126           0.22   43   \n",
       "3                   0         35681.496413           0.23   47   \n",
       "4                   0         34156.055882           0.20   42   \n",
       "\n",
       "   number_of_defaults.1 remaining term       salary marital_status  age.1  \\\n",
       "0                     0             47  3230.038869        married     37   \n",
       "1                     2             62  3194.139103         single     43   \n",
       "2                     1             57  3330.826656        married     43   \n",
       "3                     0             42  2246.797020       divorced     47   \n",
       "4                     0             45  2310.858441        married     42   \n",
       "\n",
       "       Loan Status  \n",
       "0  Did not default  \n",
       "1  Did not default  \n",
       "2  Did not default  \n",
       "3  Did not default  \n",
       "4  Did not default  "
      ]
     },
     "execution_count": 12,
     "metadata": {},
     "output_type": "execute_result"
    }
   ],
   "source": [
    "df.head()"
   ]
  },
  {
   "cell_type": "markdown",
   "metadata": {},
   "source": [
    "---"
   ]
  },
  {
   "cell_type": "markdown",
   "metadata": {},
   "source": [
    "### checking for number of rows and columns"
   ]
  },
  {
   "cell_type": "code",
   "execution_count": 13,
   "metadata": {},
   "outputs": [],
   "source": [
    "rows,columns=df.shape"
   ]
  },
  {
   "cell_type": "code",
   "execution_count": 14,
   "metadata": {},
   "outputs": [
    {
     "name": "stdout",
     "output_type": "stream",
     "text": [
      "rows:100000\n",
      "columns:20\n"
     ]
    }
   ],
   "source": [
    "print(\"rows:{}\\ncolumns:{}\".format(rows,columns))"
   ]
  },
  {
   "cell_type": "code",
   "execution_count": null,
   "metadata": {},
   "outputs": [],
   "source": []
  },
  {
   "cell_type": "markdown",
   "metadata": {},
   "source": [
    "### checking for missing values"
   ]
  },
  {
   "cell_type": "code",
   "execution_count": 15,
   "metadata": {},
   "outputs": [
    {
     "data": {
      "text/plain": [
       "loan_id                    0\n",
       "gender                     0\n",
       "disbursemet_date           0\n",
       "currency                   0\n",
       "country                  100\n",
       "sex                        0\n",
       "is_employed                0\n",
       "job                     4136\n",
       "location                 595\n",
       "loan_amount                0\n",
       "number_of_defaults         0\n",
       "outstanding_balance        0\n",
       "interest_rate              0\n",
       "age                        0\n",
       "number_of_defaults.1       0\n",
       "remaining term             0\n",
       "salary                     0\n",
       "marital_status             0\n",
       "age.1                      0\n",
       "Loan Status                0\n",
       "dtype: int64"
      ]
     },
     "execution_count": 15,
     "metadata": {},
     "output_type": "execute_result"
    }
   ],
   "source": [
    "df.isnull().sum()"
   ]
  },
  {
   "cell_type": "code",
   "execution_count": null,
   "metadata": {},
   "outputs": [],
   "source": []
  },
  {
   "cell_type": "markdown",
   "metadata": {},
   "source": [
    "### further inspecting null columns"
   ]
  },
  {
   "cell_type": "code",
   "execution_count": 16,
   "metadata": {},
   "outputs": [],
   "source": [
    "nulls=df.isnull().sum()"
   ]
  },
  {
   "cell_type": "code",
   "execution_count": 17,
   "metadata": {},
   "outputs": [],
   "source": [
    "nulls=nulls[nulls>0]"
   ]
  },
  {
   "cell_type": "code",
   "execution_count": 18,
   "metadata": {},
   "outputs": [
    {
     "data": {
      "text/plain": [
       "country      100\n",
       "job         4136\n",
       "location     595\n",
       "dtype: int64"
      ]
     },
     "execution_count": 18,
     "metadata": {},
     "output_type": "execute_result"
    }
   ],
   "source": [
    "nulls"
   ]
  },
  {
   "cell_type": "code",
   "execution_count": 19,
   "metadata": {},
   "outputs": [
    {
     "data": {
      "text/plain": [
       "True"
      ]
     },
     "execution_count": 19,
     "metadata": {},
     "output_type": "execute_result"
    }
   ],
   "source": [
    "hasattr(nulls,'name')"
   ]
  },
  {
   "cell_type": "code",
   "execution_count": 20,
   "metadata": {},
   "outputs": [],
   "source": [
    "nulls.name"
   ]
  },
  {
   "cell_type": "code",
   "execution_count": 21,
   "metadata": {},
   "outputs": [],
   "source": [
    "null_columns=nulls.index.tolist()"
   ]
  },
  {
   "cell_type": "code",
   "execution_count": 22,
   "metadata": {},
   "outputs": [
    {
     "data": {
      "text/plain": [
       "['country', 'job', 'location']"
      ]
     },
     "execution_count": 22,
     "metadata": {},
     "output_type": "execute_result"
    }
   ],
   "source": [
    "null_columns"
   ]
  },
  {
   "cell_type": "code",
   "execution_count": 23,
   "metadata": {},
   "outputs": [],
   "source": [
    "subset=df[null_columns]"
   ]
  },
  {
   "cell_type": "code",
   "execution_count": 24,
   "metadata": {},
   "outputs": [
    {
     "data": {
      "text/html": [
       "<div>\n",
       "<style scoped>\n",
       "    .dataframe tbody tr th:only-of-type {\n",
       "        vertical-align: middle;\n",
       "    }\n",
       "\n",
       "    .dataframe tbody tr th {\n",
       "        vertical-align: top;\n",
       "    }\n",
       "\n",
       "    .dataframe thead th {\n",
       "        text-align: right;\n",
       "    }\n",
       "</style>\n",
       "<table border=\"1\" class=\"dataframe\">\n",
       "  <thead>\n",
       "    <tr style=\"text-align: right;\">\n",
       "      <th></th>\n",
       "      <th>country</th>\n",
       "      <th>job</th>\n",
       "      <th>location</th>\n",
       "    </tr>\n",
       "  </thead>\n",
       "  <tbody>\n",
       "    <tr>\n",
       "      <td>0</td>\n",
       "      <td>Zimbabwe</td>\n",
       "      <td>Teacher</td>\n",
       "      <td>Beitbridge</td>\n",
       "    </tr>\n",
       "    <tr>\n",
       "      <td>1</td>\n",
       "      <td>Zimbabwe</td>\n",
       "      <td>Teacher</td>\n",
       "      <td>Harare</td>\n",
       "    </tr>\n",
       "    <tr>\n",
       "      <td>2</td>\n",
       "      <td>Zimbabwe</td>\n",
       "      <td>Nurse</td>\n",
       "      <td>Gweru</td>\n",
       "    </tr>\n",
       "    <tr>\n",
       "      <td>3</td>\n",
       "      <td>Zimbabwe</td>\n",
       "      <td>Doctor</td>\n",
       "      <td>Rusape</td>\n",
       "    </tr>\n",
       "    <tr>\n",
       "      <td>4</td>\n",
       "      <td>Zimbabwe</td>\n",
       "      <td>Nurse</td>\n",
       "      <td>Chipinge</td>\n",
       "    </tr>\n",
       "  </tbody>\n",
       "</table>\n",
       "</div>"
      ],
      "text/plain": [
       "    country      job    location\n",
       "0  Zimbabwe  Teacher  Beitbridge\n",
       "1  Zimbabwe  Teacher      Harare\n",
       "2  Zimbabwe    Nurse       Gweru\n",
       "3  Zimbabwe   Doctor      Rusape\n",
       "4  Zimbabwe    Nurse    Chipinge"
      ]
     },
     "execution_count": 24,
     "metadata": {},
     "output_type": "execute_result"
    }
   ],
   "source": [
    "subset.head()"
   ]
  },
  {
   "cell_type": "code",
   "execution_count": 25,
   "metadata": {},
   "outputs": [
    {
     "data": {
      "text/plain": [
       "3"
      ]
     },
     "execution_count": 25,
     "metadata": {},
     "output_type": "execute_result"
    }
   ],
   "source": [
    "subset.country.nunique()"
   ]
  },
  {
   "cell_type": "code",
   "execution_count": 26,
   "metadata": {},
   "outputs": [
    {
     "data": {
      "text/plain": [
       "Zimbabwe    99787\n",
       "zimbabwe      100\n",
       "Zim            13\n",
       "Name: country, dtype: int64"
      ]
     },
     "execution_count": 26,
     "metadata": {},
     "output_type": "execute_result"
    }
   ],
   "source": [
    "subset.country.value_counts()"
   ]
  },
  {
   "cell_type": "code",
   "execution_count": null,
   "metadata": {},
   "outputs": [],
   "source": []
  },
  {
   "cell_type": "markdown",
   "metadata": {},
   "source": [
    "### making the country codes uniform"
   ]
  },
  {
   "cell_type": "code",
   "execution_count": 27,
   "metadata": {},
   "outputs": [],
   "source": [
    "subset['country']=subset.country.str.title()"
   ]
  },
  {
   "cell_type": "code",
   "execution_count": 28,
   "metadata": {},
   "outputs": [
    {
     "data": {
      "text/plain": [
       "Zimbabwe    99887\n",
       "Zim            13\n",
       "Name: country, dtype: int64"
      ]
     },
     "execution_count": 28,
     "metadata": {},
     "output_type": "execute_result"
    }
   ],
   "source": [
    "subset.country.value_counts()"
   ]
  },
  {
   "cell_type": "code",
   "execution_count": 29,
   "metadata": {},
   "outputs": [],
   "source": [
    "subset['country']=subset.country.apply(lambda x:'Zimbabwe' if x=='Zim' else x)"
   ]
  },
  {
   "cell_type": "code",
   "execution_count": 30,
   "metadata": {},
   "outputs": [
    {
     "data": {
      "text/plain": [
       "Zimbabwe    99900\n",
       "Name: country, dtype: int64"
      ]
     },
     "execution_count": 30,
     "metadata": {},
     "output_type": "execute_result"
    }
   ],
   "source": [
    "subset.country.value_counts()"
   ]
  },
  {
   "cell_type": "code",
   "execution_count": 31,
   "metadata": {},
   "outputs": [],
   "source": [
    "subset['country']=subset.country.fillna('Zimbabwe')"
   ]
  },
  {
   "cell_type": "code",
   "execution_count": 32,
   "metadata": {},
   "outputs": [],
   "source": [
    "df['country']=subset.country"
   ]
  },
  {
   "cell_type": "code",
   "execution_count": 33,
   "metadata": {},
   "outputs": [],
   "source": [
    "subset=subset.drop('country',axis=1)"
   ]
  },
  {
   "cell_type": "code",
   "execution_count": 34,
   "metadata": {},
   "outputs": [
    {
     "data": {
      "text/html": [
       "<div>\n",
       "<style scoped>\n",
       "    .dataframe tbody tr th:only-of-type {\n",
       "        vertical-align: middle;\n",
       "    }\n",
       "\n",
       "    .dataframe tbody tr th {\n",
       "        vertical-align: top;\n",
       "    }\n",
       "\n",
       "    .dataframe thead th {\n",
       "        text-align: right;\n",
       "    }\n",
       "</style>\n",
       "<table border=\"1\" class=\"dataframe\">\n",
       "  <thead>\n",
       "    <tr style=\"text-align: right;\">\n",
       "      <th></th>\n",
       "      <th>job</th>\n",
       "      <th>location</th>\n",
       "    </tr>\n",
       "  </thead>\n",
       "  <tbody>\n",
       "    <tr>\n",
       "      <td>0</td>\n",
       "      <td>Teacher</td>\n",
       "      <td>Beitbridge</td>\n",
       "    </tr>\n",
       "    <tr>\n",
       "      <td>1</td>\n",
       "      <td>Teacher</td>\n",
       "      <td>Harare</td>\n",
       "    </tr>\n",
       "    <tr>\n",
       "      <td>2</td>\n",
       "      <td>Nurse</td>\n",
       "      <td>Gweru</td>\n",
       "    </tr>\n",
       "    <tr>\n",
       "      <td>3</td>\n",
       "      <td>Doctor</td>\n",
       "      <td>Rusape</td>\n",
       "    </tr>\n",
       "    <tr>\n",
       "      <td>4</td>\n",
       "      <td>Nurse</td>\n",
       "      <td>Chipinge</td>\n",
       "    </tr>\n",
       "  </tbody>\n",
       "</table>\n",
       "</div>"
      ],
      "text/plain": [
       "       job    location\n",
       "0  Teacher  Beitbridge\n",
       "1  Teacher      Harare\n",
       "2    Nurse       Gweru\n",
       "3   Doctor      Rusape\n",
       "4    Nurse    Chipinge"
      ]
     },
     "execution_count": 34,
     "metadata": {},
     "output_type": "execute_result"
    }
   ],
   "source": [
    "subset.head()"
   ]
  },
  {
   "cell_type": "code",
   "execution_count": 35,
   "metadata": {},
   "outputs": [
    {
     "data": {
      "text/html": [
       "<div>\n",
       "<style scoped>\n",
       "    .dataframe tbody tr th:only-of-type {\n",
       "        vertical-align: middle;\n",
       "    }\n",
       "\n",
       "    .dataframe tbody tr th {\n",
       "        vertical-align: top;\n",
       "    }\n",
       "\n",
       "    .dataframe thead th {\n",
       "        text-align: right;\n",
       "    }\n",
       "</style>\n",
       "<table border=\"1\" class=\"dataframe\">\n",
       "  <thead>\n",
       "    <tr style=\"text-align: right;\">\n",
       "      <th></th>\n",
       "      <th>count</th>\n",
       "      <th>unique</th>\n",
       "      <th>top</th>\n",
       "      <th>freq</th>\n",
       "    </tr>\n",
       "  </thead>\n",
       "  <tbody>\n",
       "    <tr>\n",
       "      <td>job</td>\n",
       "      <td>95864</td>\n",
       "      <td>11</td>\n",
       "      <td>Engineer</td>\n",
       "      <td>16524</td>\n",
       "    </tr>\n",
       "    <tr>\n",
       "      <td>location</td>\n",
       "      <td>99405</td>\n",
       "      <td>157</td>\n",
       "      <td>Harare</td>\n",
       "      <td>8338</td>\n",
       "    </tr>\n",
       "  </tbody>\n",
       "</table>\n",
       "</div>"
      ],
      "text/plain": [
       "          count unique       top   freq\n",
       "job       95864     11  Engineer  16524\n",
       "location  99405    157    Harare   8338"
      ]
     },
     "execution_count": 35,
     "metadata": {},
     "output_type": "execute_result"
    }
   ],
   "source": [
    "subset.describe().transpose()"
   ]
  },
  {
   "cell_type": "markdown",
   "metadata": {},
   "source": [
    "### filling missing values with most frequent values"
   ]
  },
  {
   "cell_type": "code",
   "execution_count": 36,
   "metadata": {},
   "outputs": [
    {
     "data": {
      "text/plain": [
       "job         Engineer\n",
       "location      Harare\n",
       "Name: top, dtype: object"
      ]
     },
     "execution_count": 36,
     "metadata": {},
     "output_type": "execute_result"
    }
   ],
   "source": [
    "most_frequent=subset.describe().transpose().top\n",
    "most_frequent"
   ]
  },
  {
   "cell_type": "code",
   "execution_count": 37,
   "metadata": {},
   "outputs": [],
   "source": [
    "df['job']=most_frequent.job\n",
    "df['location']=most_frequent.location"
   ]
  },
  {
   "cell_type": "markdown",
   "metadata": {},
   "source": [
    "### now checking null values"
   ]
  },
  {
   "cell_type": "code",
   "execution_count": 38,
   "metadata": {},
   "outputs": [
    {
     "data": {
      "text/plain": [
       "loan_id                 0\n",
       "gender                  0\n",
       "disbursemet_date        0\n",
       "currency                0\n",
       "country                 0\n",
       "sex                     0\n",
       "is_employed             0\n",
       "job                     0\n",
       "location                0\n",
       "loan_amount             0\n",
       "number_of_defaults      0\n",
       "outstanding_balance     0\n",
       "interest_rate           0\n",
       "age                     0\n",
       "number_of_defaults.1    0\n",
       "remaining term          0\n",
       "salary                  0\n",
       "marital_status          0\n",
       "age.1                   0\n",
       "Loan Status             0\n",
       "dtype: int64"
      ]
     },
     "execution_count": 38,
     "metadata": {},
     "output_type": "execute_result"
    }
   ],
   "source": [
    "df.isnull().sum()"
   ]
  },
  {
   "cell_type": "markdown",
   "metadata": {},
   "source": [
    "---"
   ]
  },
  {
   "cell_type": "code",
   "execution_count": 39,
   "metadata": {},
   "outputs": [
    {
     "data": {
      "text/plain": [
       "loan_id                  object\n",
       "gender                   object\n",
       "disbursemet_date         object\n",
       "currency                 object\n",
       "country                  object\n",
       "sex                      object\n",
       "is_employed                bool\n",
       "job                      object\n",
       "location                 object\n",
       "loan_amount             float64\n",
       "number_of_defaults        int64\n",
       "outstanding_balance     float64\n",
       "interest_rate           float64\n",
       "age                       int64\n",
       "number_of_defaults.1      int64\n",
       "remaining term           object\n",
       "salary                  float64\n",
       "marital_status           object\n",
       "age.1                     int64\n",
       "Loan Status              object\n",
       "dtype: object"
      ]
     },
     "execution_count": 39,
     "metadata": {},
     "output_type": "execute_result"
    }
   ],
   "source": [
    "df.dtypes"
   ]
  },
  {
   "cell_type": "code",
   "execution_count": 40,
   "metadata": {},
   "outputs": [],
   "source": [
    "sample=df.disbursemet_date.head().tolist()"
   ]
  },
  {
   "cell_type": "code",
   "execution_count": 41,
   "metadata": {},
   "outputs": [
    {
     "data": {
      "text/plain": [
       "['2022 10 29', '2020 06 06', '2023 09 29', '2022 06 22', '2023 02 08']"
      ]
     },
     "execution_count": 41,
     "metadata": {},
     "output_type": "execute_result"
    }
   ],
   "source": [
    "sample"
   ]
  },
  {
   "cell_type": "code",
   "execution_count": 42,
   "metadata": {},
   "outputs": [
    {
     "data": {
      "text/plain": [
       "Timestamp('2022-10-29 00:00:00')"
      ]
     },
     "execution_count": 42,
     "metadata": {},
     "output_type": "execute_result"
    }
   ],
   "source": [
    "pd.to_datetime('2022 10 29')"
   ]
  },
  {
   "cell_type": "code",
   "execution_count": 43,
   "metadata": {},
   "outputs": [],
   "source": [
    "df['disbursemet_date']=df['disbursemet_date'].apply(pd.to_datetime)"
   ]
  },
  {
   "cell_type": "code",
   "execution_count": 44,
   "metadata": {},
   "outputs": [
    {
     "data": {
      "text/plain": [
       "loan_id                         object\n",
       "gender                          object\n",
       "disbursemet_date        datetime64[ns]\n",
       "currency                        object\n",
       "country                         object\n",
       "sex                             object\n",
       "is_employed                       bool\n",
       "job                             object\n",
       "location                        object\n",
       "loan_amount                    float64\n",
       "number_of_defaults               int64\n",
       "outstanding_balance            float64\n",
       "interest_rate                  float64\n",
       "age                              int64\n",
       "number_of_defaults.1             int64\n",
       "remaining term                  object\n",
       "salary                         float64\n",
       "marital_status                  object\n",
       "age.1                            int64\n",
       "Loan Status                     object\n",
       "dtype: object"
      ]
     },
     "execution_count": 44,
     "metadata": {},
     "output_type": "execute_result"
    }
   ],
   "source": [
    "df.dtypes"
   ]
  },
  {
   "cell_type": "code",
   "execution_count": 45,
   "metadata": {},
   "outputs": [
    {
     "data": {
      "text/html": [
       "<div>\n",
       "<style scoped>\n",
       "    .dataframe tbody tr th:only-of-type {\n",
       "        vertical-align: middle;\n",
       "    }\n",
       "\n",
       "    .dataframe tbody tr th {\n",
       "        vertical-align: top;\n",
       "    }\n",
       "\n",
       "    .dataframe thead th {\n",
       "        text-align: right;\n",
       "    }\n",
       "</style>\n",
       "<table border=\"1\" class=\"dataframe\">\n",
       "  <thead>\n",
       "    <tr style=\"text-align: right;\">\n",
       "      <th></th>\n",
       "      <th>loan_id</th>\n",
       "      <th>gender</th>\n",
       "      <th>disbursemet_date</th>\n",
       "      <th>currency</th>\n",
       "      <th>country</th>\n",
       "      <th>sex</th>\n",
       "      <th>is_employed</th>\n",
       "      <th>job</th>\n",
       "      <th>location</th>\n",
       "      <th>loan_amount</th>\n",
       "      <th>number_of_defaults</th>\n",
       "      <th>outstanding_balance</th>\n",
       "      <th>interest_rate</th>\n",
       "      <th>age</th>\n",
       "      <th>number_of_defaults.1</th>\n",
       "      <th>remaining term</th>\n",
       "      <th>salary</th>\n",
       "      <th>marital_status</th>\n",
       "      <th>age.1</th>\n",
       "      <th>Loan Status</th>\n",
       "    </tr>\n",
       "  </thead>\n",
       "  <tbody>\n",
       "    <tr>\n",
       "      <td>0</td>\n",
       "      <td>8d05de78-ff32-46b1-aeb5-b3190f9c158a</td>\n",
       "      <td>female</td>\n",
       "      <td>2022-10-29</td>\n",
       "      <td>USD</td>\n",
       "      <td>Zimbabwe</td>\n",
       "      <td>female</td>\n",
       "      <td>True</td>\n",
       "      <td>Engineer</td>\n",
       "      <td>Harare</td>\n",
       "      <td>39000.0</td>\n",
       "      <td>0</td>\n",
       "      <td>48653.011473</td>\n",
       "      <td>0.22</td>\n",
       "      <td>37</td>\n",
       "      <td>0</td>\n",
       "      <td>47</td>\n",
       "      <td>3230.038869</td>\n",
       "      <td>married</td>\n",
       "      <td>37</td>\n",
       "      <td>Did not default</td>\n",
       "    </tr>\n",
       "    <tr>\n",
       "      <td>1</td>\n",
       "      <td>368bf756-fcf2-4822-9612-f445d90b485b</td>\n",
       "      <td>other</td>\n",
       "      <td>2020-06-06</td>\n",
       "      <td>USD</td>\n",
       "      <td>Zimbabwe</td>\n",
       "      <td>other</td>\n",
       "      <td>True</td>\n",
       "      <td>Engineer</td>\n",
       "      <td>Harare</td>\n",
       "      <td>27000.0</td>\n",
       "      <td>2</td>\n",
       "      <td>28752.062237</td>\n",
       "      <td>0.20</td>\n",
       "      <td>43</td>\n",
       "      <td>2</td>\n",
       "      <td>62</td>\n",
       "      <td>3194.139103</td>\n",
       "      <td>single</td>\n",
       "      <td>43</td>\n",
       "      <td>Did not default</td>\n",
       "    </tr>\n",
       "    <tr>\n",
       "      <td>2</td>\n",
       "      <td>6e3be39e-49b5-45b5-aab6-c6556de53c6f</td>\n",
       "      <td>other</td>\n",
       "      <td>2023-09-29</td>\n",
       "      <td>USD</td>\n",
       "      <td>Zimbabwe</td>\n",
       "      <td>other</td>\n",
       "      <td>True</td>\n",
       "      <td>Engineer</td>\n",
       "      <td>Harare</td>\n",
       "      <td>35000.0</td>\n",
       "      <td>1</td>\n",
       "      <td>44797.554126</td>\n",
       "      <td>0.22</td>\n",
       "      <td>43</td>\n",
       "      <td>1</td>\n",
       "      <td>57</td>\n",
       "      <td>3330.826656</td>\n",
       "      <td>married</td>\n",
       "      <td>43</td>\n",
       "      <td>Did not default</td>\n",
       "    </tr>\n",
       "    <tr>\n",
       "      <td>3</td>\n",
       "      <td>191c62f8-2211-49fe-ba91-43556b307871</td>\n",
       "      <td>female</td>\n",
       "      <td>2022-06-22</td>\n",
       "      <td>USD</td>\n",
       "      <td>Zimbabwe</td>\n",
       "      <td>female</td>\n",
       "      <td>True</td>\n",
       "      <td>Engineer</td>\n",
       "      <td>Harare</td>\n",
       "      <td>24000.0</td>\n",
       "      <td>0</td>\n",
       "      <td>35681.496413</td>\n",
       "      <td>0.23</td>\n",
       "      <td>47</td>\n",
       "      <td>0</td>\n",
       "      <td>42</td>\n",
       "      <td>2246.797020</td>\n",
       "      <td>divorced</td>\n",
       "      <td>47</td>\n",
       "      <td>Did not default</td>\n",
       "    </tr>\n",
       "    <tr>\n",
       "      <td>4</td>\n",
       "      <td>477cd8a1-3b01-4623-9318-8cd6122a8346</td>\n",
       "      <td>male</td>\n",
       "      <td>2023-02-08</td>\n",
       "      <td>USD</td>\n",
       "      <td>Zimbabwe</td>\n",
       "      <td>male</td>\n",
       "      <td>True</td>\n",
       "      <td>Engineer</td>\n",
       "      <td>Harare</td>\n",
       "      <td>19000.0</td>\n",
       "      <td>0</td>\n",
       "      <td>34156.055882</td>\n",
       "      <td>0.20</td>\n",
       "      <td>42</td>\n",
       "      <td>0</td>\n",
       "      <td>45</td>\n",
       "      <td>2310.858441</td>\n",
       "      <td>married</td>\n",
       "      <td>42</td>\n",
       "      <td>Did not default</td>\n",
       "    </tr>\n",
       "  </tbody>\n",
       "</table>\n",
       "</div>"
      ],
      "text/plain": [
       "                                loan_id  gender disbursemet_date currency  \\\n",
       "0  8d05de78-ff32-46b1-aeb5-b3190f9c158a  female       2022-10-29      USD   \n",
       "1  368bf756-fcf2-4822-9612-f445d90b485b   other       2020-06-06      USD   \n",
       "2  6e3be39e-49b5-45b5-aab6-c6556de53c6f   other       2023-09-29      USD   \n",
       "3  191c62f8-2211-49fe-ba91-43556b307871  female       2022-06-22      USD   \n",
       "4  477cd8a1-3b01-4623-9318-8cd6122a8346    male       2023-02-08      USD   \n",
       "\n",
       "    country     sex  is_employed       job location  loan_amount  \\\n",
       "0  Zimbabwe  female         True  Engineer   Harare      39000.0   \n",
       "1  Zimbabwe   other         True  Engineer   Harare      27000.0   \n",
       "2  Zimbabwe   other         True  Engineer   Harare      35000.0   \n",
       "3  Zimbabwe  female         True  Engineer   Harare      24000.0   \n",
       "4  Zimbabwe    male         True  Engineer   Harare      19000.0   \n",
       "\n",
       "   number_of_defaults  outstanding_balance  interest_rate  age  \\\n",
       "0                   0         48653.011473           0.22   37   \n",
       "1                   2         28752.062237           0.20   43   \n",
       "2                   1         44797.554126           0.22   43   \n",
       "3                   0         35681.496413           0.23   47   \n",
       "4                   0         34156.055882           0.20   42   \n",
       "\n",
       "   number_of_defaults.1 remaining term       salary marital_status  age.1  \\\n",
       "0                     0             47  3230.038869        married     37   \n",
       "1                     2             62  3194.139103         single     43   \n",
       "2                     1             57  3330.826656        married     43   \n",
       "3                     0             42  2246.797020       divorced     47   \n",
       "4                     0             45  2310.858441        married     42   \n",
       "\n",
       "       Loan Status  \n",
       "0  Did not default  \n",
       "1  Did not default  \n",
       "2  Did not default  \n",
       "3  Did not default  \n",
       "4  Did not default  "
      ]
     },
     "execution_count": 45,
     "metadata": {},
     "output_type": "execute_result"
    }
   ],
   "source": [
    "df.head()"
   ]
  },
  {
   "cell_type": "markdown",
   "metadata": {},
   "source": [
    "## removing duplicate columns"
   ]
  },
  {
   "cell_type": "code",
   "execution_count": 46,
   "metadata": {},
   "outputs": [
    {
     "data": {
      "text/plain": [
       "Index(['loan_id', 'gender', 'disbursemet_date', 'currency', 'country', 'sex',\n",
       "       'is_employed', 'job', 'location', 'loan_amount', 'number_of_defaults',\n",
       "       'outstanding_balance', 'interest_rate', 'age', 'number_of_defaults.1',\n",
       "       'remaining term', 'salary', 'marital_status', 'age.1', 'Loan Status'],\n",
       "      dtype='object')"
      ]
     },
     "execution_count": 46,
     "metadata": {},
     "output_type": "execute_result"
    }
   ],
   "source": [
    "df.columns"
   ]
  },
  {
   "cell_type": "code",
   "execution_count": 47,
   "metadata": {},
   "outputs": [],
   "source": [
    "duplicates=['number_of_defaults.1','age.1','sex']"
   ]
  },
  {
   "cell_type": "code",
   "execution_count": 48,
   "metadata": {},
   "outputs": [],
   "source": [
    "for column in duplicates:\n",
    "    df.drop(column,axis=1,inplace=True)"
   ]
  },
  {
   "cell_type": "code",
   "execution_count": 49,
   "metadata": {},
   "outputs": [],
   "source": [
    "rows,columns=df.shape"
   ]
  },
  {
   "cell_type": "code",
   "execution_count": 50,
   "metadata": {},
   "outputs": [
    {
     "name": "stdout",
     "output_type": "stream",
     "text": [
      "new rows:100000\n",
      "and columns:17\n"
     ]
    }
   ],
   "source": [
    "print(\"new rows:{}\\nand columns:{}\".format(rows,columns))"
   ]
  },
  {
   "cell_type": "code",
   "execution_count": 51,
   "metadata": {},
   "outputs": [
    {
     "data": {
      "text/html": [
       "<div>\n",
       "<style scoped>\n",
       "    .dataframe tbody tr th:only-of-type {\n",
       "        vertical-align: middle;\n",
       "    }\n",
       "\n",
       "    .dataframe tbody tr th {\n",
       "        vertical-align: top;\n",
       "    }\n",
       "\n",
       "    .dataframe thead th {\n",
       "        text-align: right;\n",
       "    }\n",
       "</style>\n",
       "<table border=\"1\" class=\"dataframe\">\n",
       "  <thead>\n",
       "    <tr style=\"text-align: right;\">\n",
       "      <th></th>\n",
       "      <th>loan_id</th>\n",
       "      <th>gender</th>\n",
       "      <th>disbursemet_date</th>\n",
       "      <th>currency</th>\n",
       "      <th>country</th>\n",
       "      <th>is_employed</th>\n",
       "      <th>job</th>\n",
       "      <th>location</th>\n",
       "      <th>loan_amount</th>\n",
       "      <th>number_of_defaults</th>\n",
       "      <th>outstanding_balance</th>\n",
       "      <th>interest_rate</th>\n",
       "      <th>age</th>\n",
       "      <th>remaining term</th>\n",
       "      <th>salary</th>\n",
       "      <th>marital_status</th>\n",
       "      <th>Loan Status</th>\n",
       "    </tr>\n",
       "  </thead>\n",
       "  <tbody>\n",
       "    <tr>\n",
       "      <td>0</td>\n",
       "      <td>8d05de78-ff32-46b1-aeb5-b3190f9c158a</td>\n",
       "      <td>female</td>\n",
       "      <td>2022-10-29</td>\n",
       "      <td>USD</td>\n",
       "      <td>Zimbabwe</td>\n",
       "      <td>True</td>\n",
       "      <td>Engineer</td>\n",
       "      <td>Harare</td>\n",
       "      <td>39000.0</td>\n",
       "      <td>0</td>\n",
       "      <td>48653.011473</td>\n",
       "      <td>0.22</td>\n",
       "      <td>37</td>\n",
       "      <td>47</td>\n",
       "      <td>3230.038869</td>\n",
       "      <td>married</td>\n",
       "      <td>Did not default</td>\n",
       "    </tr>\n",
       "    <tr>\n",
       "      <td>1</td>\n",
       "      <td>368bf756-fcf2-4822-9612-f445d90b485b</td>\n",
       "      <td>other</td>\n",
       "      <td>2020-06-06</td>\n",
       "      <td>USD</td>\n",
       "      <td>Zimbabwe</td>\n",
       "      <td>True</td>\n",
       "      <td>Engineer</td>\n",
       "      <td>Harare</td>\n",
       "      <td>27000.0</td>\n",
       "      <td>2</td>\n",
       "      <td>28752.062237</td>\n",
       "      <td>0.20</td>\n",
       "      <td>43</td>\n",
       "      <td>62</td>\n",
       "      <td>3194.139103</td>\n",
       "      <td>single</td>\n",
       "      <td>Did not default</td>\n",
       "    </tr>\n",
       "    <tr>\n",
       "      <td>2</td>\n",
       "      <td>6e3be39e-49b5-45b5-aab6-c6556de53c6f</td>\n",
       "      <td>other</td>\n",
       "      <td>2023-09-29</td>\n",
       "      <td>USD</td>\n",
       "      <td>Zimbabwe</td>\n",
       "      <td>True</td>\n",
       "      <td>Engineer</td>\n",
       "      <td>Harare</td>\n",
       "      <td>35000.0</td>\n",
       "      <td>1</td>\n",
       "      <td>44797.554126</td>\n",
       "      <td>0.22</td>\n",
       "      <td>43</td>\n",
       "      <td>57</td>\n",
       "      <td>3330.826656</td>\n",
       "      <td>married</td>\n",
       "      <td>Did not default</td>\n",
       "    </tr>\n",
       "    <tr>\n",
       "      <td>3</td>\n",
       "      <td>191c62f8-2211-49fe-ba91-43556b307871</td>\n",
       "      <td>female</td>\n",
       "      <td>2022-06-22</td>\n",
       "      <td>USD</td>\n",
       "      <td>Zimbabwe</td>\n",
       "      <td>True</td>\n",
       "      <td>Engineer</td>\n",
       "      <td>Harare</td>\n",
       "      <td>24000.0</td>\n",
       "      <td>0</td>\n",
       "      <td>35681.496413</td>\n",
       "      <td>0.23</td>\n",
       "      <td>47</td>\n",
       "      <td>42</td>\n",
       "      <td>2246.797020</td>\n",
       "      <td>divorced</td>\n",
       "      <td>Did not default</td>\n",
       "    </tr>\n",
       "    <tr>\n",
       "      <td>4</td>\n",
       "      <td>477cd8a1-3b01-4623-9318-8cd6122a8346</td>\n",
       "      <td>male</td>\n",
       "      <td>2023-02-08</td>\n",
       "      <td>USD</td>\n",
       "      <td>Zimbabwe</td>\n",
       "      <td>True</td>\n",
       "      <td>Engineer</td>\n",
       "      <td>Harare</td>\n",
       "      <td>19000.0</td>\n",
       "      <td>0</td>\n",
       "      <td>34156.055882</td>\n",
       "      <td>0.20</td>\n",
       "      <td>42</td>\n",
       "      <td>45</td>\n",
       "      <td>2310.858441</td>\n",
       "      <td>married</td>\n",
       "      <td>Did not default</td>\n",
       "    </tr>\n",
       "  </tbody>\n",
       "</table>\n",
       "</div>"
      ],
      "text/plain": [
       "                                loan_id  gender disbursemet_date currency  \\\n",
       "0  8d05de78-ff32-46b1-aeb5-b3190f9c158a  female       2022-10-29      USD   \n",
       "1  368bf756-fcf2-4822-9612-f445d90b485b   other       2020-06-06      USD   \n",
       "2  6e3be39e-49b5-45b5-aab6-c6556de53c6f   other       2023-09-29      USD   \n",
       "3  191c62f8-2211-49fe-ba91-43556b307871  female       2022-06-22      USD   \n",
       "4  477cd8a1-3b01-4623-9318-8cd6122a8346    male       2023-02-08      USD   \n",
       "\n",
       "    country  is_employed       job location  loan_amount  number_of_defaults  \\\n",
       "0  Zimbabwe         True  Engineer   Harare      39000.0                   0   \n",
       "1  Zimbabwe         True  Engineer   Harare      27000.0                   2   \n",
       "2  Zimbabwe         True  Engineer   Harare      35000.0                   1   \n",
       "3  Zimbabwe         True  Engineer   Harare      24000.0                   0   \n",
       "4  Zimbabwe         True  Engineer   Harare      19000.0                   0   \n",
       "\n",
       "   outstanding_balance  interest_rate  age remaining term       salary  \\\n",
       "0         48653.011473           0.22   37             47  3230.038869   \n",
       "1         28752.062237           0.20   43             62  3194.139103   \n",
       "2         44797.554126           0.22   43             57  3330.826656   \n",
       "3         35681.496413           0.23   47             42  2246.797020   \n",
       "4         34156.055882           0.20   42             45  2310.858441   \n",
       "\n",
       "  marital_status      Loan Status  \n",
       "0        married  Did not default  \n",
       "1         single  Did not default  \n",
       "2        married  Did not default  \n",
       "3       divorced  Did not default  \n",
       "4        married  Did not default  "
      ]
     },
     "execution_count": 51,
     "metadata": {},
     "output_type": "execute_result"
    }
   ],
   "source": [
    "df.head()"
   ]
  },
  {
   "cell_type": "markdown",
   "metadata": {},
   "source": [
    "---"
   ]
  },
  {
   "cell_type": "markdown",
   "metadata": {},
   "source": [
    "# __Now__: Exploratory Data Analysis"
   ]
  },
  {
   "cell_type": "code",
   "execution_count": 52,
   "metadata": {},
   "outputs": [],
   "source": [
    "textual=df.select_dtypes('object')"
   ]
  },
  {
   "cell_type": "code",
   "execution_count": 53,
   "metadata": {},
   "outputs": [
    {
     "data": {
      "text/html": [
       "<div>\n",
       "<style scoped>\n",
       "    .dataframe tbody tr th:only-of-type {\n",
       "        vertical-align: middle;\n",
       "    }\n",
       "\n",
       "    .dataframe tbody tr th {\n",
       "        vertical-align: top;\n",
       "    }\n",
       "\n",
       "    .dataframe thead th {\n",
       "        text-align: right;\n",
       "    }\n",
       "</style>\n",
       "<table border=\"1\" class=\"dataframe\">\n",
       "  <thead>\n",
       "    <tr style=\"text-align: right;\">\n",
       "      <th></th>\n",
       "      <th>loan_id</th>\n",
       "      <th>gender</th>\n",
       "      <th>currency</th>\n",
       "      <th>country</th>\n",
       "      <th>job</th>\n",
       "      <th>location</th>\n",
       "      <th>remaining term</th>\n",
       "      <th>marital_status</th>\n",
       "      <th>Loan Status</th>\n",
       "    </tr>\n",
       "  </thead>\n",
       "  <tbody>\n",
       "    <tr>\n",
       "      <td>count</td>\n",
       "      <td>100000</td>\n",
       "      <td>100000</td>\n",
       "      <td>100000</td>\n",
       "      <td>100000</td>\n",
       "      <td>100000</td>\n",
       "      <td>100000</td>\n",
       "      <td>100000</td>\n",
       "      <td>100000</td>\n",
       "      <td>100000</td>\n",
       "    </tr>\n",
       "    <tr>\n",
       "      <td>unique</td>\n",
       "      <td>100000</td>\n",
       "      <td>3</td>\n",
       "      <td>2</td>\n",
       "      <td>1</td>\n",
       "      <td>1</td>\n",
       "      <td>1</td>\n",
       "      <td>262</td>\n",
       "      <td>4</td>\n",
       "      <td>2</td>\n",
       "    </tr>\n",
       "    <tr>\n",
       "      <td>top</td>\n",
       "      <td>2896494d-9573-4c68-89aa-f0fe7285da97</td>\n",
       "      <td>male</td>\n",
       "      <td>USD</td>\n",
       "      <td>Zimbabwe</td>\n",
       "      <td>Engineer</td>\n",
       "      <td>Harare</td>\n",
       "      <td>51</td>\n",
       "      <td>married</td>\n",
       "      <td>Did not default</td>\n",
       "    </tr>\n",
       "    <tr>\n",
       "      <td>freq</td>\n",
       "      <td>1</td>\n",
       "      <td>35028</td>\n",
       "      <td>99980</td>\n",
       "      <td>100000</td>\n",
       "      <td>100000</td>\n",
       "      <td>100000</td>\n",
       "      <td>3329</td>\n",
       "      <td>44710</td>\n",
       "      <td>85134</td>\n",
       "    </tr>\n",
       "  </tbody>\n",
       "</table>\n",
       "</div>"
      ],
      "text/plain": [
       "                                     loan_id  gender currency   country  \\\n",
       "count                                 100000  100000   100000    100000   \n",
       "unique                                100000       3        2         1   \n",
       "top     2896494d-9573-4c68-89aa-f0fe7285da97    male      USD  Zimbabwe   \n",
       "freq                                       1   35028    99980    100000   \n",
       "\n",
       "             job location remaining term marital_status      Loan Status  \n",
       "count     100000   100000         100000         100000           100000  \n",
       "unique         1        1            262              4                2  \n",
       "top     Engineer   Harare             51        married  Did not default  \n",
       "freq      100000   100000           3329          44710            85134  "
      ]
     },
     "execution_count": 53,
     "metadata": {},
     "output_type": "execute_result"
    }
   ],
   "source": [
    "textual.describe()"
   ]
  },
  {
   "cell_type": "code",
   "execution_count": 54,
   "metadata": {},
   "outputs": [
    {
     "data": {
      "text/plain": [
       "male      35028\n",
       "female    32685\n",
       "other     32287\n",
       "Name: gender, dtype: int64"
      ]
     },
     "execution_count": 54,
     "metadata": {},
     "output_type": "execute_result"
    }
   ],
   "source": [
    "textual.gender.value_counts()"
   ]
  },
  {
   "cell_type": "code",
   "execution_count": 55,
   "metadata": {},
   "outputs": [
    {
     "data": {
      "text/plain": [
       "{'$USD', 'USD'}"
      ]
     },
     "execution_count": 55,
     "metadata": {},
     "output_type": "execute_result"
    }
   ],
   "source": [
    "set(textual.currency.tolist())"
   ]
  },
  {
   "cell_type": "code",
   "execution_count": 62,
   "metadata": {},
   "outputs": [
    {
     "data": {
      "text/plain": [
       "{'Engineer'}"
      ]
     },
     "execution_count": 62,
     "metadata": {},
     "output_type": "execute_result"
    }
   ],
   "source": [
    "set(textual.job.tolist())"
   ]
  },
  {
   "cell_type": "code",
   "execution_count": 63,
   "metadata": {},
   "outputs": [
    {
     "data": {
      "text/plain": [
       "{'Harare'}"
      ]
     },
     "execution_count": 63,
     "metadata": {},
     "output_type": "execute_result"
    }
   ],
   "source": [
    "set(textual.location.tolist())"
   ]
  },
  {
   "cell_type": "code",
   "execution_count": null,
   "metadata": {},
   "outputs": [],
   "source": []
  },
  {
   "cell_type": "markdown",
   "metadata": {},
   "source": [
    "## observations"
   ]
  },
  {
   "cell_type": "markdown",
   "metadata": {},
   "source": [
    "- the only currency borrowed in is USD\n",
    "\n",
    "- majority of borrowers/obligators are male\n",
    "\n",
    "- remaining term feature needs to be converted to numeric data\n",
    "\n",
    "- currency feature needs to be made uniform\n",
    "\n",
    "- majority of borrowers/obligators are married\n",
    "\n",
    "- majority of borrowers/obligators did not default\n",
    "\n",
    "- `all borrowers are engineers who live in Harare and most of them are married`"
   ]
  },
  {
   "cell_type": "markdown",
   "metadata": {},
   "source": [
    "## making the currency uniform"
   ]
  },
  {
   "cell_type": "code",
   "execution_count": 56,
   "metadata": {},
   "outputs": [],
   "source": [
    "df['currency']=df['currency'].apply(lambda value:'USD' if value=='$USD' else value)\n",
    "textual['currency']=df['currency']"
   ]
  },
  {
   "cell_type": "markdown",
   "metadata": {},
   "source": [
    "## making the remaining term variable numeric"
   ]
  },
  {
   "cell_type": "code",
   "execution_count": 57,
   "metadata": {},
   "outputs": [
    {
     "name": "stdout",
     "output_type": "stream",
     "text": [
      "Unable to parse string \"69_\" at position 0\n"
     ]
    }
   ],
   "source": [
    "try:\n",
    "    df['remaining term']=df['remaining term'].apply(pd.to_numeric)\n",
    "except ValueError as e:\n",
    "    print(e)"
   ]
  },
  {
   "cell_type": "code",
   "execution_count": 58,
   "metadata": {},
   "outputs": [
    {
     "data": {
      "text/plain": [
       "'69'"
      ]
     },
     "execution_count": 58,
     "metadata": {},
     "output_type": "execute_result"
    }
   ],
   "source": [
    "# using exception value(\"69_\") to create a cleaning function\n",
    "clean_numeric=lambda val:\"\".join(val.split('_'))\n",
    "clean_numeric(\"69_\")"
   ]
  },
  {
   "cell_type": "markdown",
   "metadata": {},
   "source": [
    "## applying on entire dataset"
   ]
  },
  {
   "cell_type": "code",
   "execution_count": 59,
   "metadata": {},
   "outputs": [],
   "source": [
    "try:\n",
    "    # using the 2 functions seperately to avoid the \"Buffer has wrong number of dimensions (expected 1, got 0)\" Error\n",
    "    df['remaining term']=df['remaining term'].apply(clean_numeric)\n",
    "    df['remaining term']=df['remaining term'].apply(pd.to_numeric)\n",
    "except ValueError as e:\n",
    "    print(e)"
   ]
  },
  {
   "cell_type": "code",
   "execution_count": 60,
   "metadata": {},
   "outputs": [],
   "source": [
    "textual.drop('remaining term',axis=1,inplace=True)"
   ]
  },
  {
   "cell_type": "code",
   "execution_count": 61,
   "metadata": {},
   "outputs": [
    {
     "data": {
      "text/html": [
       "<div>\n",
       "<style scoped>\n",
       "    .dataframe tbody tr th:only-of-type {\n",
       "        vertical-align: middle;\n",
       "    }\n",
       "\n",
       "    .dataframe tbody tr th {\n",
       "        vertical-align: top;\n",
       "    }\n",
       "\n",
       "    .dataframe thead th {\n",
       "        text-align: right;\n",
       "    }\n",
       "</style>\n",
       "<table border=\"1\" class=\"dataframe\">\n",
       "  <thead>\n",
       "    <tr style=\"text-align: right;\">\n",
       "      <th></th>\n",
       "      <th>loan_id</th>\n",
       "      <th>gender</th>\n",
       "      <th>currency</th>\n",
       "      <th>country</th>\n",
       "      <th>job</th>\n",
       "      <th>location</th>\n",
       "      <th>marital_status</th>\n",
       "      <th>Loan Status</th>\n",
       "    </tr>\n",
       "  </thead>\n",
       "  <tbody>\n",
       "    <tr>\n",
       "      <td>count</td>\n",
       "      <td>100000</td>\n",
       "      <td>100000</td>\n",
       "      <td>100000</td>\n",
       "      <td>100000</td>\n",
       "      <td>100000</td>\n",
       "      <td>100000</td>\n",
       "      <td>100000</td>\n",
       "      <td>100000</td>\n",
       "    </tr>\n",
       "    <tr>\n",
       "      <td>unique</td>\n",
       "      <td>100000</td>\n",
       "      <td>3</td>\n",
       "      <td>1</td>\n",
       "      <td>1</td>\n",
       "      <td>1</td>\n",
       "      <td>1</td>\n",
       "      <td>4</td>\n",
       "      <td>2</td>\n",
       "    </tr>\n",
       "    <tr>\n",
       "      <td>top</td>\n",
       "      <td>2896494d-9573-4c68-89aa-f0fe7285da97</td>\n",
       "      <td>male</td>\n",
       "      <td>USD</td>\n",
       "      <td>Zimbabwe</td>\n",
       "      <td>Engineer</td>\n",
       "      <td>Harare</td>\n",
       "      <td>married</td>\n",
       "      <td>Did not default</td>\n",
       "    </tr>\n",
       "    <tr>\n",
       "      <td>freq</td>\n",
       "      <td>1</td>\n",
       "      <td>35028</td>\n",
       "      <td>100000</td>\n",
       "      <td>100000</td>\n",
       "      <td>100000</td>\n",
       "      <td>100000</td>\n",
       "      <td>44710</td>\n",
       "      <td>85134</td>\n",
       "    </tr>\n",
       "  </tbody>\n",
       "</table>\n",
       "</div>"
      ],
      "text/plain": [
       "                                     loan_id  gender currency   country  \\\n",
       "count                                 100000  100000   100000    100000   \n",
       "unique                                100000       3        1         1   \n",
       "top     2896494d-9573-4c68-89aa-f0fe7285da97    male      USD  Zimbabwe   \n",
       "freq                                       1   35028   100000    100000   \n",
       "\n",
       "             job location marital_status      Loan Status  \n",
       "count     100000   100000         100000           100000  \n",
       "unique         1        1              4                2  \n",
       "top     Engineer   Harare        married  Did not default  \n",
       "freq      100000   100000          44710            85134  "
      ]
     },
     "execution_count": 61,
     "metadata": {},
     "output_type": "execute_result"
    }
   ],
   "source": [
    "textual.describe()"
   ]
  },
  {
   "cell_type": "markdown",
   "metadata": {},
   "source": [
    "## back to the observation: __all borrowers are engineers who live in Harare and most of them are married__"
   ]
  },
  {
   "cell_type": "markdown",
   "metadata": {},
   "source": [
    "### now to find out:__what's the loan status of these individuals, and how does this vary across gender?__"
   ]
  },
  {
   "cell_type": "code",
   "execution_count": 64,
   "metadata": {},
   "outputs": [
    {
     "data": {
      "text/plain": [
       "Index(['loan_id', 'gender', 'currency', 'country', 'job', 'location',\n",
       "       'marital_status', 'Loan Status'],\n",
       "      dtype='object')"
      ]
     },
     "execution_count": 64,
     "metadata": {},
     "output_type": "execute_result"
    }
   ],
   "source": [
    "textual.columns"
   ]
  },
  {
   "cell_type": "code",
   "execution_count": 65,
   "metadata": {},
   "outputs": [],
   "source": [
    "textual_subset=textual[['gender','marital_status', 'Loan Status']]"
   ]
  },
  {
   "cell_type": "code",
   "execution_count": 69,
   "metadata": {},
   "outputs": [
    {
     "data": {
      "text/plain": [
       "<seaborn.axisgrid.FacetGrid at 0x242724d03c8>"
      ]
     },
     "execution_count": 69,
     "metadata": {},
     "output_type": "execute_result"
    },
    {
     "data": {
      "image/png": "[encoded data removed]",
      "text/plain": [
       "<Figure size 864x648 with 12 Axes>"
      ]
     },
     "metadata": {
      "needs_background": "light"
     },
     "output_type": "display_data"
    }
   ],
   "source": [
    "grid=sns.FacetGrid(textual_subset,row='gender',col='marital_status',hue='gender')\n",
    "grid.map(sns.countplot,'Loan Status')"
   ]
  },
  {
   "cell_type": "code",
   "execution_count": 70,
   "metadata": {},
   "outputs": [
    {
     "data": {
      "text/plain": [
       "Did not default    85134\n",
       "Defaulted          14866\n",
       "Name: Loan Status, dtype: int64"
      ]
     },
     "execution_count": 70,
     "metadata": {},
     "output_type": "execute_result"
    }
   ],
   "source": [
    "textual_subset['Loan Status'].value_counts()"
   ]
  },
  {
   "cell_type": "code",
   "execution_count": 72,
   "metadata": {},
   "outputs": [
    {
     "data": {
      "text/plain": [
       "male      16194\n",
       "other     14726\n",
       "female    13790\n",
       "Name: gender, dtype: int64"
      ]
     },
     "execution_count": 72,
     "metadata": {},
     "output_type": "execute_result"
    }
   ],
   "source": [
    "textual.query(\"marital_status=='married'\").gender.value_counts()"
   ]
  },
  {
   "cell_type": "markdown",
   "metadata": {},
   "source": [
    "## observations"
   ]
  },
  {
   "cell_type": "markdown",
   "metadata": {},
   "source": [
    "- majority borrowers are indeed married men with a count of 16194\n",
    "\n",
    "- overall loan status: `Did not default` with only 14866 that defaulted"
   ]
  },
  {
   "cell_type": "markdown",
   "metadata": {},
   "source": [
    "### adding interactive visualisations"
   ]
  },
  {
   "cell_type": "code",
   "execution_count": null,
   "metadata": {},
   "outputs": [],
   "source": [
    "import plotly.express as px"
   ]
  }
 ],
 "metadata": {
  "kernelspec": {
   "display_name": "Python 3 (ipykernel)",
   "language": "python",
   "name": "python3"
  },
  "language_info": {
   "codemirror_mode": {
    "name": "ipython",
    "version": 3
   },
   "file_extension": ".py",
   "mimetype": "text/x-python",
   "name": "python",
   "nbconvert_exporter": "python",
   "pygments_lexer": "ipython3",
   "version": "3.12.4"
  }
 },
 "nbformat": 4,
 "nbformat_minor": 4
}
