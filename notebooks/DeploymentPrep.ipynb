{
 "cells": [
  {
   "cell_type": "code",
   "execution_count": 2,
   "id": "c7504dc2-24c1-4c44-8957-67f8d3435006",
   "metadata": {},
   "outputs": [],
   "source": [
    "import pickle\n",
    "import os"
   ]
  },
  {
   "cell_type": "code",
   "execution_count": 4,
   "id": "7e6df278-0997-4942-adab-b9b6afd45896",
   "metadata": {},
   "outputs": [],
   "source": [
    "current=os.getcwd()\n",
    "pkl=[filename for filename in os.listdir(current) if 'pickle' in filename]"
   ]
  },
  {
   "cell_type": "code",
   "execution_count": 6,
   "id": "621c19fb-79ba-4bb6-94d6-8064613666a3",
   "metadata": {},
   "outputs": [
    {
     "name": "stdout",
     "output_type": "stream",
     "text": [
      "bnb.pickle\n",
      "encoders.pickle\n",
      "gnb.pickle\n",
      "lr.pickle\n",
      "rfc.pickle\n",
      "scaler.pickle\n",
      "svc.pickle\n"
     ]
    }
   ],
   "source": [
    "print(*pkl,sep='\\n')"
   ]
  },
  {
   "cell_type": "code",
   "execution_count": 9,
   "id": "b43ab322-de10-40cc-aea6-8438850277ef",
   "metadata": {},
   "outputs": [],
   "source": [
    "def read_pickle(filename):\n",
    "    with open(filename,'rb') as iowrapper:\n",
    "        obj=pickle.load(iowrapper)\n",
    "    return obj"
   ]
  },
  {
   "cell_type": "code",
   "execution_count": 11,
   "id": "5670a52a-9654-4c70-b98e-d44a729789a0",
   "metadata": {},
   "outputs": [],
   "source": [
    "bnb=read_pickle('bnb.pickle')"
   ]
  },
  {
   "cell_type": "code",
   "execution_count": 13,
   "id": "8cfc4e5e-63ee-4adf-ad09-b33c6985e044",
   "metadata": {},
   "outputs": [],
   "source": [
    "encoders=read_pickle('encoders.pickle')\n",
    "gnb=read_pickle('gnb.pickle')\n",
    "lr=read_pickle('lr.pickle')\n",
    "rfc=read_pickle('rfc.pickle')\n",
    "scaler=read_pickle('scaler.pickle')\n",
    "svc=read_pickle('svc.pickle')"
   ]
  },
  {
   "cell_type": "code",
   "execution_count": 15,
   "id": "4f5a1716-98fd-472b-9ba2-d26b113307b7",
   "metadata": {},
   "outputs": [
    {
     "data": {
      "text/plain": [
       "{3: LabelEncoder(), 4: LabelEncoder()}"
      ]
     },
     "execution_count": 15,
     "metadata": {},
     "output_type": "execute_result"
    }
   ],
   "source": [
    "encoders"
   ]
  },
  {
   "cell_type": "code",
   "execution_count": null,
   "id": "3be7bb35-99ce-48a0-a3f3-50c2dbd41eaf",
   "metadata": {},
   "outputs": [],
   "source": [
    "import pandas as pd\n",
    "df=pd.read_csv"
   ]
  }
 ],
 "metadata": {
  "kernelspec": {
   "display_name": "Python 3 (ipykernel)",
   "language": "python",
   "name": "python3"
  },
  "language_info": {
   "codemirror_mode": {
    "name": "ipython",
    "version": 3
   },
   "file_extension": ".py",
   "mimetype": "text/x-python",
   "name": "python",
   "nbconvert_exporter": "python",
   "pygments_lexer": "ipython3",
   "version": "3.12.4"
  }
 },
 "nbformat": 4,
 "nbformat_minor": 5
}
