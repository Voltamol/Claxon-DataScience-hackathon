{
 "cells": [
  {
   "cell_type": "code",
   "execution_count": 1,
   "id": "49e34989-8e65-4bca-b525-acfc6e71e976",
   "metadata": {},
   "outputs": [],
   "source": [
    "import pandas as pd\n",
    "import numpy as np"
   ]
  },
  {
   "cell_type": "code",
   "execution_count": 2,
   "id": "cdaa30bc-fd1f-4f4f-989d-60f496922e75",
   "metadata": {},
   "outputs": [],
   "source": [
    "from utils import expected\n",
    "from utils import get_pickle\n",
    "from utils import preprocess\n",
    "from utils import predict"
   ]
  },
  {
   "cell_type": "code",
   "execution_count": 3,
   "id": "88908eef-7cc3-4a14-99be-5e3990c34d4e",
   "metadata": {},
   "outputs": [],
   "source": [
    "df=pd.read_csv('final_cleaned.csv',usecols=expected)"
   ]
  },
  {
   "cell_type": "code",
   "execution_count": 4,
   "id": "9c86820d-a0c5-4380-a27a-53cdc03190ee",
   "metadata": {},
   "outputs": [
    {
     "data": {
      "text/plain": [
       "array(['female', 'USD', True, 'Teacher', 'Beitbridge', 39000.0, 0,\n",
       "       48653.01147325887, 0.22, 37, '47', 3230.038868649578, 'married'],\n",
       "      dtype=object)"
      ]
     },
     "execution_count": 4,
     "metadata": {},
     "output_type": "execute_result"
    }
   ],
   "source": [
    "sample=np.array(df.iloc[0])\n",
    "sample"
   ]
  },
  {
   "cell_type": "code",
   "execution_count": 5,
   "id": "ea48498c-08f2-4705-a402-83d4b9e9a01d",
   "metadata": {},
   "outputs": [],
   "source": [
    "objs=get_pickle()"
   ]
  },
  {
   "cell_type": "code",
   "execution_count": 6,
   "id": "1ee31038-6f4b-45bb-a12c-8e65da66527a",
   "metadata": {},
   "outputs": [],
   "source": [
    "scaler=objs['scaler']\n",
    "encoders=objs['encoders']\n",
    "bnb=objs['bnb']\n",
    "gnb=objs['gnb']\n",
    "svc=objs['svc']\n",
    "rfc=objs['rfc']\n",
    "lr=objs['lr']\n",
    "target_encoder=encoders['target']"
   ]
  },
  {
   "cell_type": "code",
   "execution_count": 7,
   "id": "b5f6d2b2-4d26-401c-b726-09652dc18ccb",
   "metadata": {},
   "outputs": [
    {
     "name": "stderr",
     "output_type": "stream",
     "text": [
      "C:\\Users\\t470p\\anaconda3\\Lib\\site-packages\\sklearn\\base.py:493: UserWarning: X does not have valid feature names, but MinMaxScaler was fitted with feature names\n",
      "  warnings.warn(\n"
     ]
    },
    {
     "data": {
      "text/plain": [
       "'Did not default'"
      ]
     },
     "execution_count": 7,
     "metadata": {},
     "output_type": "execute_result"
    }
   ],
   "source": [
    "scaled=preprocess(sample,scaler,encoders)\n",
    "prediction=predict(scaled,bnb,target_encoder)\n",
    "prediction"
   ]
  }
 ],
 "metadata": {
  "kernelspec": {
   "display_name": "Python 3 (ipykernel)",
   "language": "python",
   "name": "python3"
  },
  "language_info": {
   "codemirror_mode": {
    "name": "ipython",
    "version": 3
   },
   "file_extension": ".py",
   "mimetype": "text/x-python",
   "name": "python",
   "nbconvert_exporter": "python",
   "pygments_lexer": "ipython3",
   "version": "3.12.4"
  }
 },
 "nbformat": 4,
 "nbformat_minor": 5
}
