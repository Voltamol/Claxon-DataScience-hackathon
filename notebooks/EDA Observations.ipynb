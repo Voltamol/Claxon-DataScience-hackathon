{
 "cells": [
  {
   "cell_type": "markdown",
   "metadata": {},
   "source": [
    "the only currency borrowed in is USD\n",
    "\n",
    "majority of borrowers/obligators are male\n",
    "\n",
    "majority of borrowers/obligators are engineers\n",
    "\n",
    "majority of borrowers/obligators live in Harare\n",
    "\n",
    "majority of borrowers/obligators are male\n",
    "\n",
    "remaining term feature needs to be converted to numeric data\n",
    "\n",
    "currency feature needs to be made uniform\n",
    "\n",
    "majority of borrowers/obligators are married\n",
    "\n",
    "majority of borrowers/obligators did not default"
   ]
  },
  {
   "cell_type": "markdown",
   "metadata": {},
   "source": [
    "---"
   ]
  },
  {
   "cell_type": "code",
   "execution_count": null,
   "metadata": {},
   "outputs": [],
   "source": []
  }
 ],
 "metadata": {
  "kernelspec": {
   "display_name": "Python 3",
   "language": "python",
   "name": "python3"
  },
  "language_info": {
   "codemirror_mode": {
    "name": "ipython",
    "version": 3
   },
   "file_extension": ".py",
   "mimetype": "text/x-python",
   "name": "python",
   "nbconvert_exporter": "python",
   "pygments_lexer": "ipython3",
   "version": "3.7.4"
  }
 },
 "nbformat": 4,
 "nbformat_minor": 4
}
