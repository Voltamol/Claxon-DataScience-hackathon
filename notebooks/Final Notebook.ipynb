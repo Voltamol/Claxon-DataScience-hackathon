{
 "cells": [
  {
   "cell_type": "markdown",
   "metadata": {
    "id": "kK1w04sPyKc0"
   },
   "source": [
    "### importing the necessary libraries"
   ]
  },
  {
   "cell_type": "code",
   "execution_count": 2,
   "metadata": {
    "id": "WxJwwmJkx6SO"
   },
   "outputs": [],
   "source": [
    "import numpy as np\n",
    "import pandas as pd\n",
    "from sklearn.impute import KNNImputer\n",
    "from sklearn.preprocessing import LabelEncoder\n",
    "import pandas as pd\n",
    "import seaborn as sns\n",
    "import os\n",
    "sns.set_style(style=\"darkgrid\")"
   ]
  },
  {
   "cell_type": "markdown",
   "metadata": {
    "id": "ZxNHCvHBv9gL"
   },
   "source": [
    "### Getting path to dataset"
   ]
  },
  {
   "cell_type": "code",
   "execution_count": 4,
   "metadata": {
    "id": "lR0KUZEwv9gP"
   },
   "outputs": [],
   "source": [
    "current=os.getcwd()\n",
    "root=os.path.dirname(current)"
   ]
  },
  {
   "cell_type": "code",
   "execution_count": 5,
   "metadata": {},
   "outputs": [
    {
     "name": "stdout",
     "output_type": "stream",
     "text": [
      "['.git', '.gitattributes', '.virtual_documents', 'data', 'LICENSE', 'notebooks', 'source documents']\n"
     ]
    }
   ],
   "source": [
    "print(os.listdir(root))"
   ]
  },
  {
   "cell_type": "markdown",
   "metadata": {},
   "source": [
    "### getting full path to dataset"
   ]
  },
  {
   "cell_type": "code",
   "execution_count": 7,
   "metadata": {},
   "outputs": [],
   "source": [
    "path=os.path.join(root,'data','data_science_competition_2024.csv')"
   ]
  },
  {
   "cell_type": "markdown",
   "metadata": {
    "id": "Qbx3ZJVPv9gP"
   },
   "source": [
    "### reading data"
   ]
  },
  {
   "cell_type": "code",
   "execution_count": 9,
   "metadata": {
    "id": "txpohZrdv9gP"
   },
   "outputs": [],
   "source": [
    "df=pd.read_csv(path)"
   ]
  },
  {
   "cell_type": "markdown",
   "metadata": {
    "id": "dMDNAtJWv9gQ"
   },
   "source": [
    "### checking entries in data"
   ]
  },
  {
   "cell_type": "code",
   "execution_count": 11,
   "metadata": {
    "colab": {
     "base_uri": "https://localhost:8080/",
     "height": 516
    },
    "id": "LinSy6_qv9gQ",
    "outputId": "42143ace-1d3c-4f18-dcb9-52cfe607efeb"
   },
   "outputs": [
    {
     "data": {
      "text/html": [
       "<div>\n",
       "<style scoped>\n",
       "    .dataframe tbody tr th:only-of-type {\n",
       "        vertical-align: middle;\n",
       "    }\n",
       "\n",
       "    .dataframe tbody tr th {\n",
       "        vertical-align: top;\n",
       "    }\n",
       "\n",
       "    .dataframe thead th {\n",
       "        text-align: right;\n",
       "    }\n",
       "</style>\n",
       "<table border=\"1\" class=\"dataframe\">\n",
       "  <thead>\n",
       "    <tr style=\"text-align: right;\">\n",
       "      <th></th>\n",
       "      <th>Unnamed: 0</th>\n",
       "      <th>loan_id</th>\n",
       "      <th>gender</th>\n",
       "      <th>disbursemet_date</th>\n",
       "      <th>currency</th>\n",
       "      <th>country</th>\n",
       "      <th>sex</th>\n",
       "      <th>is_employed</th>\n",
       "      <th>job</th>\n",
       "      <th>location</th>\n",
       "      <th>...</th>\n",
       "      <th>number_of_defaults</th>\n",
       "      <th>outstanding_balance</th>\n",
       "      <th>interest_rate</th>\n",
       "      <th>age</th>\n",
       "      <th>number_of_defaults.1</th>\n",
       "      <th>remaining term</th>\n",
       "      <th>salary</th>\n",
       "      <th>marital_status</th>\n",
       "      <th>age.1</th>\n",
       "      <th>Loan Status</th>\n",
       "    </tr>\n",
       "  </thead>\n",
       "  <tbody>\n",
       "    <tr>\n",
       "      <th>0</th>\n",
       "      <td>0</td>\n",
       "      <td>8d05de78-ff32-46b1-aeb5-b3190f9c158a</td>\n",
       "      <td>female</td>\n",
       "      <td>2022 10 29</td>\n",
       "      <td>USD</td>\n",
       "      <td>Zimbabwe</td>\n",
       "      <td>female</td>\n",
       "      <td>True</td>\n",
       "      <td>Teacher</td>\n",
       "      <td>Beitbridge</td>\n",
       "      <td>...</td>\n",
       "      <td>0</td>\n",
       "      <td>48653.011473</td>\n",
       "      <td>0.22</td>\n",
       "      <td>37</td>\n",
       "      <td>0</td>\n",
       "      <td>47</td>\n",
       "      <td>3230.038869</td>\n",
       "      <td>married</td>\n",
       "      <td>37</td>\n",
       "      <td>Did not default</td>\n",
       "    </tr>\n",
       "    <tr>\n",
       "      <th>1</th>\n",
       "      <td>1</td>\n",
       "      <td>368bf756-fcf2-4822-9612-f445d90b485b</td>\n",
       "      <td>other</td>\n",
       "      <td>2020 06 06</td>\n",
       "      <td>USD</td>\n",
       "      <td>Zimbabwe</td>\n",
       "      <td>other</td>\n",
       "      <td>True</td>\n",
       "      <td>Teacher</td>\n",
       "      <td>Harare</td>\n",
       "      <td>...</td>\n",
       "      <td>2</td>\n",
       "      <td>28752.062237</td>\n",
       "      <td>0.20</td>\n",
       "      <td>43</td>\n",
       "      <td>2</td>\n",
       "      <td>62</td>\n",
       "      <td>3194.139103</td>\n",
       "      <td>single</td>\n",
       "      <td>43</td>\n",
       "      <td>Did not default</td>\n",
       "    </tr>\n",
       "    <tr>\n",
       "      <th>2</th>\n",
       "      <td>2</td>\n",
       "      <td>6e3be39e-49b5-45b5-aab6-c6556de53c6f</td>\n",
       "      <td>other</td>\n",
       "      <td>2023 09 29</td>\n",
       "      <td>USD</td>\n",
       "      <td>Zimbabwe</td>\n",
       "      <td>other</td>\n",
       "      <td>True</td>\n",
       "      <td>Nurse</td>\n",
       "      <td>Gweru</td>\n",
       "      <td>...</td>\n",
       "      <td>1</td>\n",
       "      <td>44797.554126</td>\n",
       "      <td>0.22</td>\n",
       "      <td>43</td>\n",
       "      <td>1</td>\n",
       "      <td>57</td>\n",
       "      <td>3330.826656</td>\n",
       "      <td>married</td>\n",
       "      <td>43</td>\n",
       "      <td>Did not default</td>\n",
       "    </tr>\n",
       "    <tr>\n",
       "      <th>3</th>\n",
       "      <td>3</td>\n",
       "      <td>191c62f8-2211-49fe-ba91-43556b307871</td>\n",
       "      <td>female</td>\n",
       "      <td>2022 06 22</td>\n",
       "      <td>USD</td>\n",
       "      <td>Zimbabwe</td>\n",
       "      <td>female</td>\n",
       "      <td>True</td>\n",
       "      <td>Doctor</td>\n",
       "      <td>Rusape</td>\n",
       "      <td>...</td>\n",
       "      <td>0</td>\n",
       "      <td>35681.496413</td>\n",
       "      <td>0.23</td>\n",
       "      <td>47</td>\n",
       "      <td>0</td>\n",
       "      <td>42</td>\n",
       "      <td>2246.797020</td>\n",
       "      <td>divorced</td>\n",
       "      <td>47</td>\n",
       "      <td>Did not default</td>\n",
       "    </tr>\n",
       "    <tr>\n",
       "      <th>4</th>\n",
       "      <td>4</td>\n",
       "      <td>477cd8a1-3b01-4623-9318-8cd6122a8346</td>\n",
       "      <td>male</td>\n",
       "      <td>2023 02 08</td>\n",
       "      <td>USD</td>\n",
       "      <td>Zimbabwe</td>\n",
       "      <td>male</td>\n",
       "      <td>True</td>\n",
       "      <td>Nurse</td>\n",
       "      <td>Chipinge</td>\n",
       "      <td>...</td>\n",
       "      <td>0</td>\n",
       "      <td>34156.055882</td>\n",
       "      <td>0.20</td>\n",
       "      <td>42</td>\n",
       "      <td>0</td>\n",
       "      <td>45</td>\n",
       "      <td>2310.858441</td>\n",
       "      <td>married</td>\n",
       "      <td>42</td>\n",
       "      <td>Did not default</td>\n",
       "    </tr>\n",
       "  </tbody>\n",
       "</table>\n",
       "<p>5 rows × 21 columns</p>\n",
       "</div>"
      ],
      "text/plain": [
       "   Unnamed: 0                               loan_id  gender disbursemet_date  \\\n",
       "0           0  8d05de78-ff32-46b1-aeb5-b3190f9c158a  female       2022 10 29   \n",
       "1           1  368bf756-fcf2-4822-9612-f445d90b485b   other       2020 06 06   \n",
       "2           2  6e3be39e-49b5-45b5-aab6-c6556de53c6f   other       2023 09 29   \n",
       "3           3  191c62f8-2211-49fe-ba91-43556b307871  female       2022 06 22   \n",
       "4           4  477cd8a1-3b01-4623-9318-8cd6122a8346    male       2023 02 08   \n",
       "\n",
       "  currency   country     sex  is_employed      job    location  ...  \\\n",
       "0      USD  Zimbabwe  female         True  Teacher  Beitbridge  ...   \n",
       "1      USD  Zimbabwe   other         True  Teacher      Harare  ...   \n",
       "2      USD  Zimbabwe   other         True    Nurse       Gweru  ...   \n",
       "3      USD  Zimbabwe  female         True   Doctor      Rusape  ...   \n",
       "4      USD  Zimbabwe    male         True    Nurse    Chipinge  ...   \n",
       "\n",
       "   number_of_defaults  outstanding_balance  interest_rate  age  \\\n",
       "0                   0         48653.011473           0.22   37   \n",
       "1                   2         28752.062237           0.20   43   \n",
       "2                   1         44797.554126           0.22   43   \n",
       "3                   0         35681.496413           0.23   47   \n",
       "4                   0         34156.055882           0.20   42   \n",
       "\n",
       "   number_of_defaults.1  remaining term       salary  marital_status age.1  \\\n",
       "0                     0              47  3230.038869         married    37   \n",
       "1                     2              62  3194.139103          single    43   \n",
       "2                     1              57  3330.826656         married    43   \n",
       "3                     0              42  2246.797020        divorced    47   \n",
       "4                     0              45  2310.858441         married    42   \n",
       "\n",
       "       Loan Status  \n",
       "0  Did not default  \n",
       "1  Did not default  \n",
       "2  Did not default  \n",
       "3  Did not default  \n",
       "4  Did not default  \n",
       "\n",
       "[5 rows x 21 columns]"
      ]
     },
     "execution_count": 11,
     "metadata": {},
     "output_type": "execute_result"
    }
   ],
   "source": [
    "df.head()"
   ]
  },
  {
   "cell_type": "markdown",
   "metadata": {
    "id": "G3mW3Jnqv9gQ"
   },
   "source": [
    "## __Data Cleaning__"
   ]
  },
  {
   "cell_type": "markdown",
   "metadata": {
    "id": "3ISg4Ydxv9gR"
   },
   "source": [
    "### `Unnamed` feature is unnecessary as it only indicates the index of a row in the dataset"
   ]
  },
  {
   "cell_type": "markdown",
   "metadata": {
    "id": "j56H_Rtiv9gR"
   },
   "source": [
    "### getting rid of the column"
   ]
  },
  {
   "cell_type": "code",
   "execution_count": 15,
   "metadata": {
    "id": "8A9_wMQyv9gR"
   },
   "outputs": [],
   "source": [
    "df=pd.read_csv(path,index_col=0)"
   ]
  },
  {
   "cell_type": "code",
   "execution_count": 16,
   "metadata": {
    "colab": {
     "base_uri": "https://localhost:8080/",
     "height": 487
    },
    "id": "fEmmF597v9gS",
    "outputId": "852b1d06-0a72-4bd5-f9f5-d8b48cc65ff3"
   },
   "outputs": [
    {
     "data": {
      "text/html": [
       "<div>\n",
       "<style scoped>\n",
       "    .dataframe tbody tr th:only-of-type {\n",
       "        vertical-align: middle;\n",
       "    }\n",
       "\n",
       "    .dataframe tbody tr th {\n",
       "        vertical-align: top;\n",
       "    }\n",
       "\n",
       "    .dataframe thead th {\n",
       "        text-align: right;\n",
       "    }\n",
       "</style>\n",
       "<table border=\"1\" class=\"dataframe\">\n",
       "  <thead>\n",
       "    <tr style=\"text-align: right;\">\n",
       "      <th></th>\n",
       "      <th>loan_id</th>\n",
       "      <th>gender</th>\n",
       "      <th>disbursemet_date</th>\n",
       "      <th>currency</th>\n",
       "      <th>country</th>\n",
       "      <th>sex</th>\n",
       "      <th>is_employed</th>\n",
       "      <th>job</th>\n",
       "      <th>location</th>\n",
       "      <th>loan_amount</th>\n",
       "      <th>number_of_defaults</th>\n",
       "      <th>outstanding_balance</th>\n",
       "      <th>interest_rate</th>\n",
       "      <th>age</th>\n",
       "      <th>number_of_defaults.1</th>\n",
       "      <th>remaining term</th>\n",
       "      <th>salary</th>\n",
       "      <th>marital_status</th>\n",
       "      <th>age.1</th>\n",
       "      <th>Loan Status</th>\n",
       "    </tr>\n",
       "  </thead>\n",
       "  <tbody>\n",
       "    <tr>\n",
       "      <th>0</th>\n",
       "      <td>8d05de78-ff32-46b1-aeb5-b3190f9c158a</td>\n",
       "      <td>female</td>\n",
       "      <td>2022 10 29</td>\n",
       "      <td>USD</td>\n",
       "      <td>Zimbabwe</td>\n",
       "      <td>female</td>\n",
       "      <td>True</td>\n",
       "      <td>Teacher</td>\n",
       "      <td>Beitbridge</td>\n",
       "      <td>39000.0</td>\n",
       "      <td>0</td>\n",
       "      <td>48653.011473</td>\n",
       "      <td>0.22</td>\n",
       "      <td>37</td>\n",
       "      <td>0</td>\n",
       "      <td>47</td>\n",
       "      <td>3230.038869</td>\n",
       "      <td>married</td>\n",
       "      <td>37</td>\n",
       "      <td>Did not default</td>\n",
       "    </tr>\n",
       "    <tr>\n",
       "      <th>1</th>\n",
       "      <td>368bf756-fcf2-4822-9612-f445d90b485b</td>\n",
       "      <td>other</td>\n",
       "      <td>2020 06 06</td>\n",
       "      <td>USD</td>\n",
       "      <td>Zimbabwe</td>\n",
       "      <td>other</td>\n",
       "      <td>True</td>\n",
       "      <td>Teacher</td>\n",
       "      <td>Harare</td>\n",
       "      <td>27000.0</td>\n",
       "      <td>2</td>\n",
       "      <td>28752.062237</td>\n",
       "      <td>0.20</td>\n",
       "      <td>43</td>\n",
       "      <td>2</td>\n",
       "      <td>62</td>\n",
       "      <td>3194.139103</td>\n",
       "      <td>single</td>\n",
       "      <td>43</td>\n",
       "      <td>Did not default</td>\n",
       "    </tr>\n",
       "    <tr>\n",
       "      <th>2</th>\n",
       "      <td>6e3be39e-49b5-45b5-aab6-c6556de53c6f</td>\n",
       "      <td>other</td>\n",
       "      <td>2023 09 29</td>\n",
       "      <td>USD</td>\n",
       "      <td>Zimbabwe</td>\n",
       "      <td>other</td>\n",
       "      <td>True</td>\n",
       "      <td>Nurse</td>\n",
       "      <td>Gweru</td>\n",
       "      <td>35000.0</td>\n",
       "      <td>1</td>\n",
       "      <td>44797.554126</td>\n",
       "      <td>0.22</td>\n",
       "      <td>43</td>\n",
       "      <td>1</td>\n",
       "      <td>57</td>\n",
       "      <td>3330.826656</td>\n",
       "      <td>married</td>\n",
       "      <td>43</td>\n",
       "      <td>Did not default</td>\n",
       "    </tr>\n",
       "    <tr>\n",
       "      <th>3</th>\n",
       "      <td>191c62f8-2211-49fe-ba91-43556b307871</td>\n",
       "      <td>female</td>\n",
       "      <td>2022 06 22</td>\n",
       "      <td>USD</td>\n",
       "      <td>Zimbabwe</td>\n",
       "      <td>female</td>\n",
       "      <td>True</td>\n",
       "      <td>Doctor</td>\n",
       "      <td>Rusape</td>\n",
       "      <td>24000.0</td>\n",
       "      <td>0</td>\n",
       "      <td>35681.496413</td>\n",
       "      <td>0.23</td>\n",
       "      <td>47</td>\n",
       "      <td>0</td>\n",
       "      <td>42</td>\n",
       "      <td>2246.797020</td>\n",
       "      <td>divorced</td>\n",
       "      <td>47</td>\n",
       "      <td>Did not default</td>\n",
       "    </tr>\n",
       "    <tr>\n",
       "      <th>4</th>\n",
       "      <td>477cd8a1-3b01-4623-9318-8cd6122a8346</td>\n",
       "      <td>male</td>\n",
       "      <td>2023 02 08</td>\n",
       "      <td>USD</td>\n",
       "      <td>Zimbabwe</td>\n",
       "      <td>male</td>\n",
       "      <td>True</td>\n",
       "      <td>Nurse</td>\n",
       "      <td>Chipinge</td>\n",
       "      <td>19000.0</td>\n",
       "      <td>0</td>\n",
       "      <td>34156.055882</td>\n",
       "      <td>0.20</td>\n",
       "      <td>42</td>\n",
       "      <td>0</td>\n",
       "      <td>45</td>\n",
       "      <td>2310.858441</td>\n",
       "      <td>married</td>\n",
       "      <td>42</td>\n",
       "      <td>Did not default</td>\n",
       "    </tr>\n",
       "  </tbody>\n",
       "</table>\n",
       "</div>"
      ],
      "text/plain": [
       "                                loan_id  gender disbursemet_date currency  \\\n",
       "0  8d05de78-ff32-46b1-aeb5-b3190f9c158a  female       2022 10 29      USD   \n",
       "1  368bf756-fcf2-4822-9612-f445d90b485b   other       2020 06 06      USD   \n",
       "2  6e3be39e-49b5-45b5-aab6-c6556de53c6f   other       2023 09 29      USD   \n",
       "3  191c62f8-2211-49fe-ba91-43556b307871  female       2022 06 22      USD   \n",
       "4  477cd8a1-3b01-4623-9318-8cd6122a8346    male       2023 02 08      USD   \n",
       "\n",
       "    country     sex  is_employed      job    location  loan_amount  \\\n",
       "0  Zimbabwe  female         True  Teacher  Beitbridge      39000.0   \n",
       "1  Zimbabwe   other         True  Teacher      Harare      27000.0   \n",
       "2  Zimbabwe   other         True    Nurse       Gweru      35000.0   \n",
       "3  Zimbabwe  female         True   Doctor      Rusape      24000.0   \n",
       "4  Zimbabwe    male         True    Nurse    Chipinge      19000.0   \n",
       "\n",
       "   number_of_defaults  outstanding_balance  interest_rate  age  \\\n",
       "0                   0         48653.011473           0.22   37   \n",
       "1                   2         28752.062237           0.20   43   \n",
       "2                   1         44797.554126           0.22   43   \n",
       "3                   0         35681.496413           0.23   47   \n",
       "4                   0         34156.055882           0.20   42   \n",
       "\n",
       "   number_of_defaults.1 remaining term       salary marital_status  age.1  \\\n",
       "0                     0             47  3230.038869        married     37   \n",
       "1                     2             62  3194.139103         single     43   \n",
       "2                     1             57  3330.826656        married     43   \n",
       "3                     0             42  2246.797020       divorced     47   \n",
       "4                     0             45  2310.858441        married     42   \n",
       "\n",
       "       Loan Status  \n",
       "0  Did not default  \n",
       "1  Did not default  \n",
       "2  Did not default  \n",
       "3  Did not default  \n",
       "4  Did not default  "
      ]
     },
     "execution_count": 16,
     "metadata": {},
     "output_type": "execute_result"
    }
   ],
   "source": [
    "df.head()"
   ]
  },
  {
   "cell_type": "markdown",
   "metadata": {
    "id": "-ODN1Q4rv9gS"
   },
   "source": [
    "### checking for number of rows and columns"
   ]
  },
  {
   "cell_type": "code",
   "execution_count": 18,
   "metadata": {
    "id": "_WP6aVq-v9gS"
   },
   "outputs": [],
   "source": [
    "rows,columns=df.shape"
   ]
  },
  {
   "cell_type": "code",
   "execution_count": 19,
   "metadata": {
    "colab": {
     "base_uri": "https://localhost:8080/"
    },
    "id": "7JcWdP58v9gS",
    "outputId": "5cf58ecf-27ba-4b5f-8f25-ef7aaa3b41d3"
   },
   "outputs": [
    {
     "name": "stdout",
     "output_type": "stream",
     "text": [
      "rows:100000\n",
      "columns:20\n"
     ]
    }
   ],
   "source": [
    "print(\"rows:{}\\ncolumns:{}\".format(rows,columns))"
   ]
  },
  {
   "cell_type": "markdown",
   "metadata": {
    "id": "_MiVylhOv9gS"
   },
   "source": [
    "### checking for missing values"
   ]
  },
  {
   "cell_type": "code",
   "execution_count": 21,
   "metadata": {
    "colab": {
     "base_uri": "https://localhost:8080/"
    },
    "id": "q_HqZaoGv9gT",
    "outputId": "5969aeb8-8423-4425-c0d8-46a05ba4fc2b"
   },
   "outputs": [
    {
     "data": {
      "text/plain": [
       "loan_id                    0\n",
       "gender                     0\n",
       "disbursemet_date           0\n",
       "currency                   0\n",
       "country                  100\n",
       "sex                        0\n",
       "is_employed                0\n",
       "job                     4136\n",
       "location                 595\n",
       "loan_amount                0\n",
       "number_of_defaults         0\n",
       "outstanding_balance        0\n",
       "interest_rate              0\n",
       "age                        0\n",
       "number_of_defaults.1       0\n",
       "remaining term             0\n",
       "salary                     0\n",
       "marital_status             0\n",
       "age.1                      0\n",
       "Loan Status                0\n",
       "dtype: int64"
      ]
     },
     "execution_count": 21,
     "metadata": {},
     "output_type": "execute_result"
    }
   ],
   "source": [
    "df.isnull().sum()"
   ]
  },
  {
   "cell_type": "markdown",
   "metadata": {
    "id": "gUzXsRn8v9gT"
   },
   "source": [
    "### further inspecting null columns"
   ]
  },
  {
   "cell_type": "code",
   "execution_count": 23,
   "metadata": {
    "id": "Z3g4a88Ev9gT"
   },
   "outputs": [],
   "source": [
    "nulls=df.isnull().sum()"
   ]
  },
  {
   "cell_type": "code",
   "execution_count": 24,
   "metadata": {
    "id": "iTniXVmPv9gT"
   },
   "outputs": [],
   "source": [
    "nulls=nulls[nulls>0]"
   ]
  },
  {
   "cell_type": "code",
   "execution_count": 25,
   "metadata": {
    "colab": {
     "base_uri": "https://localhost:8080/"
    },
    "id": "_kSNWrhnv9gT",
    "outputId": "c578027a-092e-4ce9-e2ae-dbe6ed5bc2a0"
   },
   "outputs": [
    {
     "data": {
      "text/plain": [
       "country      100\n",
       "job         4136\n",
       "location     595\n",
       "dtype: int64"
      ]
     },
     "execution_count": 25,
     "metadata": {},
     "output_type": "execute_result"
    }
   ],
   "source": [
    "nulls"
   ]
  },
  {
   "cell_type": "markdown",
   "metadata": {
    "id": "csszA4Lpv9gT"
   },
   "source": [
    "### getting feature_names for null columns"
   ]
  },
  {
   "cell_type": "code",
   "execution_count": 27,
   "metadata": {
    "colab": {
     "base_uri": "https://localhost:8080/"
    },
    "id": "Kehzkp4wv9gT",
    "outputId": "3c6071eb-6d10-4f24-a030-759a8ef684f4"
   },
   "outputs": [
    {
     "data": {
      "text/plain": [
       "['country', 'job', 'location']"
      ]
     },
     "execution_count": 27,
     "metadata": {},
     "output_type": "execute_result"
    }
   ],
   "source": [
    "null_columns=nulls.index.tolist()\n",
    "null_columns"
   ]
  },
  {
   "cell_type": "code",
   "execution_count": 28,
   "metadata": {
    "colab": {
     "base_uri": "https://localhost:8080/",
     "height": 206
    },
    "id": "wA5gONWDv9gU",
    "outputId": "7aad1092-b457-43bc-ebb1-df1e8caba28a"
   },
   "outputs": [
    {
     "data": {
      "text/html": [
       "<div>\n",
       "<style scoped>\n",
       "    .dataframe tbody tr th:only-of-type {\n",
       "        vertical-align: middle;\n",
       "    }\n",
       "\n",
       "    .dataframe tbody tr th {\n",
       "        vertical-align: top;\n",
       "    }\n",
       "\n",
       "    .dataframe thead th {\n",
       "        text-align: right;\n",
       "    }\n",
       "</style>\n",
       "<table border=\"1\" class=\"dataframe\">\n",
       "  <thead>\n",
       "    <tr style=\"text-align: right;\">\n",
       "      <th></th>\n",
       "      <th>country</th>\n",
       "      <th>job</th>\n",
       "      <th>location</th>\n",
       "    </tr>\n",
       "  </thead>\n",
       "  <tbody>\n",
       "    <tr>\n",
       "      <th>0</th>\n",
       "      <td>Zimbabwe</td>\n",
       "      <td>Teacher</td>\n",
       "      <td>Beitbridge</td>\n",
       "    </tr>\n",
       "    <tr>\n",
       "      <th>1</th>\n",
       "      <td>Zimbabwe</td>\n",
       "      <td>Teacher</td>\n",
       "      <td>Harare</td>\n",
       "    </tr>\n",
       "    <tr>\n",
       "      <th>2</th>\n",
       "      <td>Zimbabwe</td>\n",
       "      <td>Nurse</td>\n",
       "      <td>Gweru</td>\n",
       "    </tr>\n",
       "    <tr>\n",
       "      <th>3</th>\n",
       "      <td>Zimbabwe</td>\n",
       "      <td>Doctor</td>\n",
       "      <td>Rusape</td>\n",
       "    </tr>\n",
       "    <tr>\n",
       "      <th>4</th>\n",
       "      <td>Zimbabwe</td>\n",
       "      <td>Nurse</td>\n",
       "      <td>Chipinge</td>\n",
       "    </tr>\n",
       "  </tbody>\n",
       "</table>\n",
       "</div>"
      ],
      "text/plain": [
       "    country      job    location\n",
       "0  Zimbabwe  Teacher  Beitbridge\n",
       "1  Zimbabwe  Teacher      Harare\n",
       "2  Zimbabwe    Nurse       Gweru\n",
       "3  Zimbabwe   Doctor      Rusape\n",
       "4  Zimbabwe    Nurse    Chipinge"
      ]
     },
     "execution_count": 28,
     "metadata": {},
     "output_type": "execute_result"
    }
   ],
   "source": [
    "subset=df[null_columns]\n",
    "subset.head()"
   ]
  },
  {
   "cell_type": "markdown",
   "metadata": {
    "id": "GjNyjeeGv9gU"
   },
   "source": [
    "### cleaning country first"
   ]
  },
  {
   "cell_type": "code",
   "execution_count": 30,
   "metadata": {
    "colab": {
     "base_uri": "https://localhost:8080/"
    },
    "id": "hg7VDTezv9gU",
    "outputId": "493454ee-b44f-4171-fc32-a6ca41b9fbcb"
   },
   "outputs": [
    {
     "data": {
      "text/plain": [
       "country\n",
       "Zimbabwe    99787\n",
       "zimbabwe      100\n",
       "Zim            13\n",
       "Name: count, dtype: int64"
      ]
     },
     "execution_count": 30,
     "metadata": {},
     "output_type": "execute_result"
    }
   ],
   "source": [
    "subset.country.value_counts()"
   ]
  },
  {
   "cell_type": "markdown",
   "metadata": {
    "id": "uv8adUawv9gV"
   },
   "source": [
    "### it seems that the only value under country is Zimbabwe so will fill every missing value with `Zimbabwe`"
   ]
  },
  {
   "cell_type": "markdown",
   "metadata": {
    "id": "TfqW9lTTv9gV"
   },
   "source": [
    "### But first:"
   ]
  },
  {
   "cell_type": "markdown",
   "metadata": {
    "id": "W4LGRfvDv9gV"
   },
   "source": [
    "### __making the country codes uniform__"
   ]
  },
  {
   "cell_type": "markdown",
   "metadata": {
    "id": "9yiMnck_v9gV"
   },
   "source": [
    "__converting `zimbabwe` to `Zimbabwe`__"
   ]
  },
  {
   "cell_type": "code",
   "execution_count": 35,
   "metadata": {
    "colab": {
     "base_uri": "https://localhost:8080/"
    },
    "id": "dCJ0xFbmv9gW",
    "outputId": "a31bbc50-cf8c-47ec-df35-fe54714fa9e9"
   },
   "outputs": [
    {
     "name": "stderr",
     "output_type": "stream",
     "text": [
      "C:\\Users\\t470p\\AppData\\Local\\Temp\\ipykernel_8560\\3233849946.py:1: SettingWithCopyWarning: \n",
      "A value is trying to be set on a copy of a slice from a DataFrame.\n",
      "Try using .loc[row_indexer,col_indexer] = value instead\n",
      "\n",
      "See the caveats in the documentation: https://pandas.pydata.org/pandas-docs/stable/user_guide/indexing.html#returning-a-view-versus-a-copy\n",
      "  subset['country']=subset.country.str.title()\n"
     ]
    }
   ],
   "source": [
    "subset['country']=subset.country.str.title()"
   ]
  },
  {
   "cell_type": "markdown",
   "metadata": {
    "id": "7OBhMnVdv9gW"
   },
   "source": [
    "__viewing changes__"
   ]
  },
  {
   "cell_type": "code",
   "execution_count": 37,
   "metadata": {
    "colab": {
     "base_uri": "https://localhost:8080/"
    },
    "id": "DlGKEZurv9gW",
    "outputId": "e1f803b1-dce5-4f3f-9f3a-42cd9a21e555"
   },
   "outputs": [
    {
     "data": {
      "text/plain": [
       "country\n",
       "Zimbabwe    99887\n",
       "Zim            13\n",
       "Name: count, dtype: int64"
      ]
     },
     "execution_count": 37,
     "metadata": {},
     "output_type": "execute_result"
    }
   ],
   "source": [
    "subset.country.value_counts()"
   ]
  },
  {
   "cell_type": "markdown",
   "metadata": {
    "id": "OYyYmS55v9gW"
   },
   "source": [
    "__now converting `Zim` to `Zimbabwe`__"
   ]
  },
  {
   "cell_type": "code",
   "execution_count": 39,
   "metadata": {
    "colab": {
     "base_uri": "https://localhost:8080/"
    },
    "id": "s1z2zBaYv9gW",
    "outputId": "2ab9b50a-424d-4011-e1ab-a5c67783dad4"
   },
   "outputs": [
    {
     "name": "stderr",
     "output_type": "stream",
     "text": [
      "C:\\Users\\t470p\\AppData\\Local\\Temp\\ipykernel_8560\\1775430154.py:1: SettingWithCopyWarning: \n",
      "A value is trying to be set on a copy of a slice from a DataFrame.\n",
      "Try using .loc[row_indexer,col_indexer] = value instead\n",
      "\n",
      "See the caveats in the documentation: https://pandas.pydata.org/pandas-docs/stable/user_guide/indexing.html#returning-a-view-versus-a-copy\n",
      "  subset['country']=subset.country.apply(lambda x:'Zimbabwe' if x=='Zim' else x)\n"
     ]
    }
   ],
   "source": [
    "subset['country']=subset.country.apply(lambda x:'Zimbabwe' if x=='Zim' else x)"
   ]
  },
  {
   "cell_type": "markdown",
   "metadata": {
    "id": "_1l1GCXdv9gW"
   },
   "source": [
    "__viewing changes__"
   ]
  },
  {
   "cell_type": "code",
   "execution_count": 41,
   "metadata": {
    "colab": {
     "base_uri": "https://localhost:8080/"
    },
    "id": "JxcMKLaDv9gb",
    "outputId": "3b353e17-ee40-4761-a3c1-e04148dcd658"
   },
   "outputs": [
    {
     "data": {
      "text/plain": [
       "country\n",
       "Zimbabwe    99900\n",
       "Name: count, dtype: int64"
      ]
     },
     "execution_count": 41,
     "metadata": {},
     "output_type": "execute_result"
    }
   ],
   "source": [
    "subset.country.value_counts()"
   ]
  },
  {
   "cell_type": "code",
   "execution_count": 42,
   "metadata": {
    "colab": {
     "base_uri": "https://localhost:8080/"
    },
    "id": "kFHw8W1vv9gb",
    "outputId": "53472a23-2750-451d-9453-fe2222ea57d1"
   },
   "outputs": [
    {
     "data": {
      "text/plain": [
       "100000"
      ]
     },
     "execution_count": 42,
     "metadata": {},
     "output_type": "execute_result"
    }
   ],
   "source": [
    "rows"
   ]
  },
  {
   "cell_type": "markdown",
   "metadata": {
    "id": "VwCHfYGcv9gb"
   },
   "source": [
    "__now that all values for country are uniform,__\n",
    "\n",
    "__filling missing values with `Zimbabwe`__"
   ]
  },
  {
   "cell_type": "code",
   "execution_count": 44,
   "metadata": {
    "colab": {
     "base_uri": "https://localhost:8080/"
    },
    "id": "12QpKyiQv9gb",
    "outputId": "a8d4527e-a92c-4d42-d78c-60b430a1d11a"
   },
   "outputs": [
    {
     "name": "stderr",
     "output_type": "stream",
     "text": [
      "C:\\Users\\t470p\\AppData\\Local\\Temp\\ipykernel_8560\\4210389633.py:1: SettingWithCopyWarning: \n",
      "A value is trying to be set on a copy of a slice from a DataFrame.\n",
      "Try using .loc[row_indexer,col_indexer] = value instead\n",
      "\n",
      "See the caveats in the documentation: https://pandas.pydata.org/pandas-docs/stable/user_guide/indexing.html#returning-a-view-versus-a-copy\n",
      "  subset['country']=subset.country.fillna('Zimbabwe')\n"
     ]
    }
   ],
   "source": [
    "subset['country']=subset.country.fillna('Zimbabwe')"
   ]
  },
  {
   "cell_type": "code",
   "execution_count": 45,
   "metadata": {
    "id": "JNPGV-iuv9gb"
   },
   "outputs": [],
   "source": [
    "df['country']=subset.country"
   ]
  },
  {
   "cell_type": "markdown",
   "metadata": {
    "id": "Ij8j9GzWv9gc"
   },
   "source": [
    "__getting rid of imputed feature in subset__"
   ]
  },
  {
   "cell_type": "code",
   "execution_count": 47,
   "metadata": {
    "id": "TpPoGGoyv9gc"
   },
   "outputs": [],
   "source": [
    "subset=subset.drop('country',axis=1)"
   ]
  },
  {
   "cell_type": "code",
   "execution_count": 48,
   "metadata": {
    "colab": {
     "base_uri": "https://localhost:8080/",
     "height": 206
    },
    "id": "cirjFG_Av9gc",
    "outputId": "1761a670-3acd-4dfc-be67-045dbe885f49"
   },
   "outputs": [
    {
     "data": {
      "text/html": [
       "<div>\n",
       "<style scoped>\n",
       "    .dataframe tbody tr th:only-of-type {\n",
       "        vertical-align: middle;\n",
       "    }\n",
       "\n",
       "    .dataframe tbody tr th {\n",
       "        vertical-align: top;\n",
       "    }\n",
       "\n",
       "    .dataframe thead th {\n",
       "        text-align: right;\n",
       "    }\n",
       "</style>\n",
       "<table border=\"1\" class=\"dataframe\">\n",
       "  <thead>\n",
       "    <tr style=\"text-align: right;\">\n",
       "      <th></th>\n",
       "      <th>job</th>\n",
       "      <th>location</th>\n",
       "    </tr>\n",
       "  </thead>\n",
       "  <tbody>\n",
       "    <tr>\n",
       "      <th>0</th>\n",
       "      <td>Teacher</td>\n",
       "      <td>Beitbridge</td>\n",
       "    </tr>\n",
       "    <tr>\n",
       "      <th>1</th>\n",
       "      <td>Teacher</td>\n",
       "      <td>Harare</td>\n",
       "    </tr>\n",
       "    <tr>\n",
       "      <th>2</th>\n",
       "      <td>Nurse</td>\n",
       "      <td>Gweru</td>\n",
       "    </tr>\n",
       "    <tr>\n",
       "      <th>3</th>\n",
       "      <td>Doctor</td>\n",
       "      <td>Rusape</td>\n",
       "    </tr>\n",
       "    <tr>\n",
       "      <th>4</th>\n",
       "      <td>Nurse</td>\n",
       "      <td>Chipinge</td>\n",
       "    </tr>\n",
       "  </tbody>\n",
       "</table>\n",
       "</div>"
      ],
      "text/plain": [
       "       job    location\n",
       "0  Teacher  Beitbridge\n",
       "1  Teacher      Harare\n",
       "2    Nurse       Gweru\n",
       "3   Doctor      Rusape\n",
       "4    Nurse    Chipinge"
      ]
     },
     "execution_count": 48,
     "metadata": {},
     "output_type": "execute_result"
    }
   ],
   "source": [
    "subset.head()"
   ]
  },
  {
   "cell_type": "markdown",
   "metadata": {
    "id": "qBBf4yNrv9gc"
   },
   "source": [
    "__inspecting the 2 remaining null features__"
   ]
  },
  {
   "cell_type": "code",
   "execution_count": 50,
   "metadata": {
    "colab": {
     "base_uri": "https://localhost:8080/",
     "height": 112
    },
    "id": "2XGUpWXzv9gc",
    "outputId": "8e61b62f-69d3-437a-b081-cf88a5ed04fb"
   },
   "outputs": [
    {
     "data": {
      "text/html": [
       "<div>\n",
       "<style scoped>\n",
       "    .dataframe tbody tr th:only-of-type {\n",
       "        vertical-align: middle;\n",
       "    }\n",
       "\n",
       "    .dataframe tbody tr th {\n",
       "        vertical-align: top;\n",
       "    }\n",
       "\n",
       "    .dataframe thead th {\n",
       "        text-align: right;\n",
       "    }\n",
       "</style>\n",
       "<table border=\"1\" class=\"dataframe\">\n",
       "  <thead>\n",
       "    <tr style=\"text-align: right;\">\n",
       "      <th></th>\n",
       "      <th>count</th>\n",
       "      <th>unique</th>\n",
       "      <th>top</th>\n",
       "      <th>freq</th>\n",
       "    </tr>\n",
       "  </thead>\n",
       "  <tbody>\n",
       "    <tr>\n",
       "      <th>job</th>\n",
       "      <td>95864</td>\n",
       "      <td>11</td>\n",
       "      <td>Engineer</td>\n",
       "      <td>16524</td>\n",
       "    </tr>\n",
       "    <tr>\n",
       "      <th>location</th>\n",
       "      <td>99405</td>\n",
       "      <td>157</td>\n",
       "      <td>Harare</td>\n",
       "      <td>8338</td>\n",
       "    </tr>\n",
       "  </tbody>\n",
       "</table>\n",
       "</div>"
      ],
      "text/plain": [
       "          count unique       top   freq\n",
       "job       95864     11  Engineer  16524\n",
       "location  99405    157    Harare   8338"
      ]
     },
     "execution_count": 50,
     "metadata": {},
     "output_type": "execute_result"
    }
   ],
   "source": [
    "subset.describe().transpose()"
   ]
  },
  {
   "cell_type": "code",
   "execution_count": 51,
   "metadata": {
    "colab": {
     "base_uri": "https://localhost:8080/"
    },
    "id": "RZDLdE_hv9gc",
    "outputId": "a173852b-efb8-4014-a91b-c7fd130c7cab"
   },
   "outputs": [
    {
     "data": {
      "text/plain": [
       "job\n",
       "Engineer              16524\n",
       "Nurse                 15284\n",
       "Data Analyst          13204\n",
       "Doctor                12186\n",
       "Software Developer    11932\n",
       "Teacher                8950\n",
       "Accountant             7802\n",
       "SoftwareDeveloper      3564\n",
       "Data Scientist         3521\n",
       "Lawyer                 2862\n",
       "Data Scintist            35\n",
       "Name: count, dtype: int64"
      ]
     },
     "execution_count": 51,
     "metadata": {},
     "output_type": "execute_result"
    }
   ],
   "source": [
    "subset.job.value_counts()"
   ]
  },
  {
   "cell_type": "code",
   "execution_count": 52,
   "metadata": {
    "colab": {
     "base_uri": "https://localhost:8080/"
    },
    "id": "HY7z52y3v9gc",
    "outputId": "e3839b1b-df5f-401a-b4ec-b375b8026ef4"
   },
   "outputs": [
    {
     "data": {
      "text/plain": [
       "location\n",
       "Harare               8338\n",
       "Bulawayo             8078\n",
       "Mutare               8062\n",
       "Gweru                7803\n",
       "Masvingo             7476\n",
       "                     ... \n",
       " Redcliff               1\n",
       "Victoria Falls          1\n",
       "Victoria Falls          1\n",
       "   Gokwe                1\n",
       "Gokwe                   1\n",
       "Name: count, Length: 157, dtype: int64"
      ]
     },
     "execution_count": 52,
     "metadata": {},
     "output_type": "execute_result"
    }
   ],
   "source": [
    "subset.location.value_counts()"
   ]
  },
  {
   "cell_type": "markdown",
   "metadata": {
    "id": "hJOWl7FIv9gd"
   },
   "source": [
    "### imputing missing values in original dataset"
   ]
  },
  {
   "cell_type": "code",
   "execution_count": 54,
   "metadata": {},
   "outputs": [],
   "source": [
    "missing = subset.columns.tolist()"
   ]
  },
  {
   "cell_type": "code",
   "execution_count": 62,
   "metadata": {},
   "outputs": [],
   "source": [
    "# creatin encoders\n",
    "enc1=LabelEncoder()\n",
    "enc2=LabelEncoder()\n",
    "# fitting encoders\n",
    "enc1.fit(df[missing[0]])\n",
    "enc2.fit(df[missing[1]])\n",
    "# transforming features to numeric\n",
    "df[missing[0]]=enc1.transform(df[missing[0]])\n",
    "df[missing[1]]=enc2.transform(df[missing[1]])"
   ]
  },
  {
   "cell_type": "code",
   "execution_count": 64,
   "metadata": {
    "id": "e5QJ1SVMv9gd"
   },
   "outputs": [],
   "source": [
    "imputer = KNNImputer(n_neighbors=5, weights='uniform')\n",
    "df[missing] = imputer.fit_transform(df[missing])"
   ]
  },
  {
   "cell_type": "code",
   "execution_count": null,
   "metadata": {
    "id": "KiCl9W_Lv9gd"
   },
   "outputs": [],
   "source": []
  }
 ],
 "metadata": {
  "colab": {
   "provenance": []
  },
  "kernelspec": {
   "display_name": "Python 3 (ipykernel)",
   "language": "python",
   "name": "python3"
  },
  "language_info": {
   "codemirror_mode": {
    "name": "ipython",
    "version": 3
   },
   "file_extension": ".py",
   "mimetype": "text/x-python",
   "name": "python",
   "nbconvert_exporter": "python",
   "pygments_lexer": "ipython3",
   "version": "3.12.4"
  }
 },
 "nbformat": 4,
 "nbformat_minor": 4
}
