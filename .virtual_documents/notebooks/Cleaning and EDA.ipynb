import pandas as pd
import warnings
warnings.filterwarnings("ignore")


import os


import seaborn as sns
sns.set_style(style="darkgrid")


current=os.getcwd()


root=os.path.dirname(current)


print(root)


os.listdir(root)


path=os.path.join(root,'data','data_science_competition_2024.csv')


df=pd.read_csv(path)


df.head()


df=pd.read_csv(path,index_col=0)


df.head()








rows,columns=df.shape


print("rows:{}\ncolumns:{}".format(rows,columns))








df.isnull().sum()








nulls=df.isnull().sum()


nulls=nulls[nulls>0]


nulls


hasattr(nulls,'name')


nulls.name


null_columns=nulls.index.tolist()


null_columns


subset=df[null_columns]


subset.head()


subset.country.nunique()


subset.country.value_counts()








subset['country']=subset.country.str.title()


subset.country.value_counts()


subset['country']=subset.country.apply(lambda x:'Zimbabwe' if x=='Zim' else x)


subset.country.value_counts()


subset['country']=subset.country.fillna('Zimbabwe')


df['country']=subset.country


subset=subset.drop('country',axis=1)


subset.head()


subset.describe().transpose()





most_frequent=subset.describe().transpose().top
most_frequent


df['job']=most_frequent.job
df['location']=most_frequent.location





df.isnull().sum()





df.dtypes


sample=df.disbursemet_date.head().tolist()


sample


pd.to_datetime('2022 10 29')


df['disbursemet_date']=df['disbursemet_date'].apply(pd.to_datetime)


df.dtypes


df.head()





df.columns


duplicates=['number_of_defaults.1','age.1','sex']


for column in duplicates:
    df.drop(column,axis=1,inplace=True)


rows,columns=df.shape


print("new rows:{}\nand columns:{}".format(rows,columns))


df.head()








textual=df.select_dtypes('object')


textual.describe()


textual.gender.value_counts()


set(textual.currency.tolist())


set(textual.job.tolist())


set(textual.location.tolist())














df['currency']=df['currency'].apply(lambda value:'USD' if value=='$USD' else value)
textual['currency']=df['currency']





try:
    df['remaining term']=df['remaining term'].apply(pd.to_numeric)
except ValueError as e:
    print(e)


# using exception value("69_") to create a cleaning function
clean_numeric=lambda val:"".join(val.split('_'))
clean_numeric("69_")





try:
    # using the 2 functions seperately to avoid the "Buffer has wrong number of dimensions (expected 1, got 0)" Error
    df['remaining term']=df['remaining term'].apply(clean_numeric)
    df['remaining term']=df['remaining term'].apply(pd.to_numeric)
except ValueError as e:
    print(e)


textual.drop('remaining term',axis=1,inplace=True)


textual.describe()








textual.columns


textual_subset=textual[['gender','marital_status', 'Loan Status']]


grid=sns.FacetGrid(textual_subset,row='gender',col='marital_status',hue='gender')
grid.map(sns.countplot,'Loan Status')


textual_subset['Loan Status'].value_counts()


textual.query("marital_status=='married'").gender.value_counts()











import plotly.express as px
