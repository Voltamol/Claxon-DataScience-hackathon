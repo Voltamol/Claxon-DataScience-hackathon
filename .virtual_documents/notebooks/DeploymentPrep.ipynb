import pandas as pd
import numpy as np


from utils import expected
from utils import get_pickle
from utils import preprocess
from utils import predict


df=pd.read_csv('final_cleaned.csv',usecols=expected)


sample=np.array(df.iloc[0])
sample


objs=get_pickle()


scaler=objs['scaler']
encoders=objs['encoders']
bnb=objs['bnb']
gnb=objs['gnb']
svc=objs['svc']
rfc=objs['rfc']
lr=objs['lr']
target_encoder=encoders['target']


scaled=preprocess(sample,scaler,encoders)
prediction=predict(scaled,bnb,target_encoder)
prediction
