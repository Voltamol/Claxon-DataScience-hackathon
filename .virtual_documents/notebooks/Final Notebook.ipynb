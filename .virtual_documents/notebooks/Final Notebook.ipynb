


import numpy as np
import pandas as pd
from sklearn.impute import KNNImputer
from sklearn.preprocessing import LabelEncoder
import pandas as pd
import seaborn as sns
import os
sns.set_style(style="darkgrid")





current=os.getcwd()
root=os.path.dirname(current)


print(os.listdir(root))





path=os.path.join(root,'data','data_science_competition_2024.csv')





df=pd.read_csv(path)





df.head()











df=pd.read_csv(path,index_col=0)


df.head()





rows,columns=df.shape


print("rows:{}\ncolumns:{}".format(rows,columns))





df.isnull().sum()





nulls=df.isnull().sum()


nulls=nulls[nulls>0]


nulls





null_columns=nulls.index.tolist()
null_columns


subset=df[null_columns]
subset.head()





subset.country.value_counts()














subset['country']=subset.country.str.title()





subset.country.value_counts()





subset['country']=subset.country.apply(lambda x:'Zimbabwe' if x=='Zim' else x)





subset.country.value_counts()


rows





subset['country']=subset.country.fillna('Zimbabwe')


df['country']=subset.country





subset=subset.drop('country',axis=1)


subset.head()





subset.describe().transpose()


subset.job.value_counts()


subset.location.value_counts()





missing = subset.columns.tolist()


# creatin encoders
enc1=LabelEncoder()
enc2=LabelEncoder()
# fitting encoders
enc1.fit(df[missing[0]])
enc2.fit(df[missing[1]])
# transforming features to numeric
df[missing[0]]=enc1.transform(df[missing[0]])
df[missing[1]]=enc2.transform(df[missing[1]])


imputer = KNNImputer(n_neighbors=5, weights='uniform')
df[missing] = imputer.fit_transform(df[missing])



