


import numpy as np
import pandas as pd
from sklearn.impute import KNNImputer
from sklearn.preprocessing import LabelEncoder
import pandas as pd
import seaborn as sns
import os
import warnings
sns.set_style(style="darkgrid")





warnings.filterwarnings("ignore")





current=os.getcwd()
root=os.path.dirname(current)


print(os.listdir(root))





path=os.path.join(root,'data','data_science_competition_2024.csv')





df=pd.read_csv(path)





df.head()











df=pd.read_csv(path,index_col=0)


df.head()





rows,columns=df.shape


print("rows:{}\ncolumns:{}".format(rows,columns))





df.isnull().sum()





nulls=df.isnull().sum()


nulls=nulls[nulls>0]


nulls





null_columns=nulls.index.tolist()
null_columns


subset=df[null_columns]
subset.head()





subset.country.value_counts()














subset['country']=subset.country.str.title()





subset.country.value_counts()





subset['country']=subset.country.apply(lambda x:'Zimbabwe' if x=='Zim' else x)





subset.country.value_counts()


rows





subset['country']=subset.country.fillna('Zimbabwe')


df['country']=subset.country





subset=subset.drop('country',axis=1)


subset.head()





subset.describe().transpose()


subset.job.value_counts()


subset.location.value_counts()














subset.location.nunique()


subset.job.nunique()








df.drop(['age.1','sex','number_of_defaults.1'],axis=1,inplace=True)





missing = subset.columns.tolist()


# creatin encoders
enc1=LabelEncoder()
enc2=LabelEncoder()
# fitting encoders
enc1.fit(df[missing[0]])
enc2.fit(df[missing[1]])
# transforming features to numeric
subset[missing[0]]=enc1.transform(subset[missing[0]])
subset[missing[1]]=enc2.transform(subset[missing[1]])








numeric=df.describe().columns.tolist()





numeric=df[numeric]


numeric=numeric.join(subset)


numeric.head()


numeric.isnull().sum()





numeric[numeric.isnull()]
numeric.head()


imputer = KNNImputer()
transformed = imputer.fit_transform(numeric)
# replacing features with missing values by ones without any missing values
for feature in missing:
    df[feature] = numeric[feature]





df[missing].head()





df[missing[0]]=enc1.inverse_transform(df[missing[0]].astype('int'))
df[missing[1]]=enc2.inverse_transform(df[missing[1]].astype('int'))





df.head()











df.head()





df.isnull().sum()








df.describe()


transformed=pd.DataFrame(transformed,columns=numeric.columns)


transformed[missing[0]]=enc1.inverse_transform(transformed[missing[0]].astype('int'))
transformed[missing[1]]=enc2.inverse_transform(transformed[missing[1]].astype('int'))


transformed.head()


numeric.isnull().sum()


numeric[transformed.isnull()]



