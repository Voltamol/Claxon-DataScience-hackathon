import pickle
import os


current=os.getcwd()
pkl=[filename for filename in os.listdir(current) if 'pickle' in filename]


print(*pkl,sep='\n')


def read_pickle(filename):
    with open(filename,'rb') as iowrapper:
        obj=pickle.load(iowrapper)
    return obj


bnb=read_pickle('bnb.pickle')


encoders=read_pickle('encoders.pickle')
gnb=read_pickle('gnb.pickle')
lr=read_pickle('lr.pickle')
rfc=read_pickle('rfc.pickle')
scaler=read_pickle('scaler.pickle')
svc=read_pickle('svc.pickle')


encoders


import pandas as pd
df=pd.read_csv
